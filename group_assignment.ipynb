{
 "cells": [
  {
   "cell_type": "code",
   "execution_count": 533,
   "metadata": {},
   "outputs": [],
   "source": [
    "import pandas as pd\n",
    "import matplotlib.pyplot as plt\n",
    "import numpy as np\n",
    "import seaborn as sns\n",
    "\n",
    "# For getting the colour map\n",
    "import matplotlib.cm as cm\n",
    "\n",
    "#For clustering and creating dendogram\n",
    "from scipy.cluster.hierarchy import dendrogram, linkage\n",
    "\n",
    "# For labels of the dendogram plot\n",
    "import pylab\n",
    "\n",
    "# for scatter matrix of numerical variables\n",
    "from pandas.plotting import scatter_matrix\n",
    "\n",
    "#Import for running a t test\n",
    "from scipy.stats import ttest_ind\n",
    "\n",
    "#Import stats models for Logistic Regression for stastical Inference\n",
    "import statsmodels.formula.api as smf\n",
    "\n",
    "#Import DateTime to manipulate datetime columns\n",
    "import datetime"
   ]
  },
  {
   "cell_type": "markdown",
   "metadata": {},
   "source": [
    "# README\n",
    "## This Exploratory Data Analysis Assignment is done in three sections.\n",
    "### Section 1:\n",
    "In this section is divided into the following subsections. We do the following for each column\n",
    "#### Data Analysis \n",
    "percentiles, null values, outliers <br>\n",
    "Data Distribution - histogram, bar chart. box chart.\n",
    "\n",
    "#### Data Cleanup.\n",
    "#### Data Insights\n",
    "Univariate Analysis  <br>\n",
    "Segmented univariate analysis <br>\n",
    "\n",
    "t-test (To conclude after the advanced statistics course)\n",
    "\n",
    "### Section 2:\n",
    "Derived Variables.\n",
    "\n",
    "### Section 3:\n",
    "Correlation analysis, Bivariate Analysis, Logistic Regression Model\n",
    "\n"
   ]
  },
  {
   "cell_type": "code",
   "execution_count": 534,
   "metadata": {},
   "outputs": [],
   "source": [
    "#Pandas is complaining about not being able to infer data types. \n",
    "#We will set the data types so that pandas is memory efficient while processing the columns. \n",
    "#reference: https://stackoverflow.com/questions/24251219/pandas-read-csv-low-memory-and-dtype-options\n",
    "#todo. Set the datatypes of individual columns\n"
   ]
  },
  {
   "cell_type": "markdown",
   "metadata": {},
   "source": [
    "# ----------------- Common Functions ------------------------"
   ]
  },
  {
   "cell_type": "code",
   "execution_count": 535,
   "metadata": {},
   "outputs": [],
   "source": [
    "# Helper functions to do analysis of numeric variable.\n",
    "def do_analysis(dataframe, column_name):\n",
    "    print(dataframe[column_name].describe(percentiles=np.linspace(0,1,11)))\n",
    "    print(\"Number of null values for the column {0} : {1}\".format(column_name, dataframe[column_name].isnull().sum()))\n",
    "    plt.figure(figsize=(10,10))\n",
    "    plt.subplot(311)\n",
    "    dataframe[column_name].plot(kind='hist', bins=50)\n",
    "    plt.subplot(312)\n",
    "    dataframe[column_name].plot(kind='box')\n",
    "    dataframe[[column_name, 'loan_status']].boxplot(by='loan_status')\n"
   ]
  },
  {
   "cell_type": "code",
   "execution_count": 536,
   "metadata": {},
   "outputs": [],
   "source": [
    "# Helper function to print the analysis of categorical variables\n",
    "def do_analysis_categorical(dataframe, column_name):\n",
    "    print(dataframe[column_name].value_counts())\n",
    "    # Segmented Univariate Analysis\n",
    "    pivot = pd.pivot_table(dataframe, values = 'policy_code',\n",
    "                         index = [column_name], columns = ['loan_status'], aggfunc = np.sum, margins=True)\n",
    "    pivot['Paid Percentage'] = pivot['Fully Paid']/pivot['All']\n",
    "    pivot['Charged Off Percentage'] = 1 - pivot['Paid Percentage']\n",
    "    pivot['Charged Off Percentage'] = pivot['Charged Off Percentage'] * 100\n",
    "    pivot['Paid Percentage'] = pivot['Paid Percentage'] * 100\n",
    "    print(pivot)\n",
    "    pd.pivot_table(dataframe, values = 'policy_code', index = [column_name],\n",
    "               columns = ['loan_status'], aggfunc = np.sum).plot(kind='bar', stacked=True, figsize=(24, 8))"
   ]
  },
  {
   "cell_type": "code",
   "execution_count": 537,
   "metadata": {},
   "outputs": [],
   "source": [
    "# Helper function to run a t test between charged_off and fully paid population.\n",
    "def run_t_test(dataframe, column_name):\n",
    "    charged_off = dataframe.loc[dataframe['loan_status'] == 'Charged Off']\n",
    "    fully_paid = dataframe.loc[dataframe['loan_status'] == 'Fully Paid']\n",
    "    print(ttest_ind(charged_off[column_name], fully_paid[column_name]))\n",
    "    "
   ]
  },
  {
   "cell_type": "code",
   "execution_count": 538,
   "metadata": {},
   "outputs": [],
   "source": [
    "#All input dates are in MON-YY Format e.g: DEC-11\n",
    "def changeDate2SequenceOfInt(inputDate):\n",
    "    if(pd.isnull(inputDate)):\n",
    "        return 0\n",
    "    else:\n",
    "        dt = datetime.datetime.strptime(inputDate,\"%b-%y\")\n",
    "        return int(str(dt.year) + str(dt.strftime('%m')))"
   ]
  },
  {
   "cell_type": "code",
   "execution_count": 539,
   "metadata": {},
   "outputs": [],
   "source": [
    "def checkNullPerForColumns(columnName):\n",
    "    print (\"Null Percentage of the Column is: ==> \", round(100*(lending_club_master.loc[:,columnName].isnull().sum()/len(lending_club_master.loc[:,columnName].index)), 2))"
   ]
  },
  {
   "cell_type": "code",
   "execution_count": 540,
   "metadata": {},
   "outputs": [],
   "source": [
    "#Plot CountPlot and TotalAmount Plot Based on LoanAmount\n",
    "def pltUniVariableAnalysis(column, df):\n",
    "    plt.figure(figsize=(10,10))\n",
    " \n",
    "    y = 'loan_amnt'\n",
    "    hue = 'loan_status'\n",
    "   \n",
    "    plt.subplot(2,1,1)\n",
    "    p = sns.barplot(x = column, y = y, hue=hue, data = df, estimator=np.sum)\n",
    "    p.set_xticklabels(p.get_xticklabels(), rotation = 90)\n",
    "    #plt.title(sumTitle)\n",
    "    plt.subplot(2,1,2)\n",
    "    q = sns.countplot(x = column, hue = hue, data = df)\n",
    "    q.set_xticklabels(q.get_xticklabels(), rotation = 90)\n",
    "    #plt.title(countTitle)\n",
    "    plt.show()"
   ]
  },
  {
   "cell_type": "code",
   "execution_count": 541,
   "metadata": {},
   "outputs": [],
   "source": [
    "def createDict(columnName, dataFrame):\n",
    "    unique_columnValues = dataFrame.loc[:,columnName].unique()\n",
    "    unique_Count = len(unique_columnValues)\n",
    "    columnName_col2Val = dict(zip(unique_columnValues,np.arange(unique_Count)))\n",
    "    columnName_val2Col = dict(zip(np.arange(unique_Count), unique_columnValues))\n",
    "    return columnName_col2Val, columnName_val2Col"
   ]
  },
  {
   "cell_type": "code",
   "execution_count": 542,
   "metadata": {},
   "outputs": [],
   "source": [
    "#Plot Categorical Based on Loan_Amount With Title as Parameter. Draw 2 Plots to Show the Comparision of Loan Status\n",
    "def pltCategorical(columnName, title1, title2):\n",
    "    X1 = lending_club.pivot_table(index=columnName, values = 'loan_amnt', columns='loan_status', aggfunc='sum').reset_index()\n",
    "    plt.figure(figsize=(16,14))\n",
    "    plt.subplot(2, 1, 1)\n",
    "    p = sns.barplot(columnName, 'Charged Off', data = X1.sort_values(by = 'Charged Off', ascending = False))\n",
    "    p.set_xticklabels(p.get_xticklabels(),rotation=30)\n",
    "    plt.title(title1)\n",
    "    plt.subplot(2,1,2)\n",
    "    q = sns.barplot(columnName, 'Fully Paid', data = X1.sort_values(by = 'Fully Paid', ascending = False))\n",
    "    q.set_xticklabels(q.get_xticklabels(),rotation=30)\n",
    "    plt.title(title2)\n",
    "    plt.show()"
   ]
  },
  {
   "cell_type": "code",
   "execution_count": 543,
   "metadata": {},
   "outputs": [],
   "source": [
    "#Create a DataFrame to Group LateFeePercent Based on Loan_Status\n",
    "def createDF_LateFeePrecent_Categories(categoryColumn):\n",
    "    X1 = lending_club.pivot_table(index = categoryColumn, values = 'lateFeePrecent', columns=['loan_status'], aggfunc='mean').reset_index()\n",
    "    X1['LateFeePercent_diff'] = (X1['Charged Off'] - X1['Fully Paid'])\n",
    "    X1 = X1.sort_values(by='LateFeePercent_diff', ascending = False)\n",
    "    return X1\n",
    "\n",
    "#Plot using Dataframe output from \"createDF_LateFeePrecent_Categories\" function\n",
    "def pltLateFeePercentOnCategies(categoryColumn, dataFrame):\n",
    "    plt.figure(figsize=(15,8))\n",
    "    p = sns.barplot(x = categoryColumn,y='LateFeePercent_diff', data = dataFrame.sort_values(by='LateFeePercent_diff', ascending = False))\n",
    "    plt.ylabel('Charged-Off LateFee Percent On Fully Paid')\n",
    "    p.set_xticklabels(p.get_xticklabels(), rotation = 90, fontsize = 12)\n",
    "    plt.title(\"More LateFee Precent by ChargedOff Subscriber on FullyPaid Subscriber\")\n",
    "\n",
    "    plt.show() "
   ]
  },
  {
   "cell_type": "code",
   "execution_count": 544,
   "metadata": {},
   "outputs": [],
   "source": [
    "# percentile analysis\n",
    "def percentileanalysis(column_name,hue):\n",
    " temp = pd.Series(data = hue)\n",
    " fig, ax = plt.subplots()\n",
    " width = 18\n",
    " fig.set_size_inches(width , 7)\n",
    " ax = sns.countplot(data = lending_club, x= column_name, order=lending_club[column_name].value_counts().index,hue = hue) \n",
    " if len(temp.unique()) > 0:\n",
    "    for p in ax.patches:\n",
    "        ax.annotate('{:1.1f}%'.format((p.get_height()*100)/float(len(lending_club))), (p.get_x()+0.05, p.get_height()+20))  \n",
    " else:\n",
    "    for p in ax.patches:\n",
    "        ax.annotate(p.get_height(), (p.get_x()+0.32, p.get_height()+20)) \n",
    "    del temp"
   ]
  },
  {
   "cell_type": "markdown",
   "metadata": {},
   "source": [
    "# ----------------- SECTION 1 ------------------------"
   ]
  },
  {
   "cell_type": "markdown",
   "metadata": {},
   "source": [
    "## Data Analysis"
   ]
  },
  {
   "cell_type": "markdown",
   "metadata": {},
   "source": [
    "### ==> Read Loan.csv file"
   ]
  },
  {
   "cell_type": "code",
   "execution_count": 545,
   "metadata": {},
   "outputs": [
    {
     "name": "stderr",
     "output_type": "stream",
     "text": [
      "/Users/amirisev/miniconda3/lib/python3.6/site-packages/IPython/core/interactiveshell.py:2785: DtypeWarning: Columns (47) have mixed types. Specify dtype option on import or set low_memory=False.\n",
      "  interactivity=interactivity, compiler=compiler, result=result)\n"
     ]
    }
   ],
   "source": [
    "lending_club = pd.read_csv('loan.csv')"
   ]
  },
  {
   "cell_type": "markdown",
   "metadata": {},
   "source": [
    "### ==> Make default datatype as string for 47th Column avoid load error"
   ]
  },
  {
   "cell_type": "code",
   "execution_count": 546,
   "metadata": {},
   "outputs": [
    {
     "name": "stdout",
     "output_type": "stream",
     "text": [
      "Column Name Which Failed to Load ==>  next_pymnt_d\n"
     ]
    }
   ],
   "source": [
    "print(\"Column Name Which Failed to Load ==> \", lending_club.columns[47])\n",
    "customDataType = dict(zip(lending_club.columns,lending_club.dtypes)) #Get the Datatype\n",
    "customDataType['next_pymnt_d'] = 'str'\n",
    "lending_club = pd.read_csv('loan.csv',dtype=customDataType) #Reload"
   ]
  },
  {
   "cell_type": "markdown",
   "metadata": {},
   "source": [
    "### ==> Find all the Columns with 100% NULL and create a Dictionary"
   ]
  },
  {
   "cell_type": "code",
   "execution_count": 547,
   "metadata": {},
   "outputs": [],
   "source": [
    "#Get Null% in each Column of loan dataframe\n",
    "nullColumns = pd.DataFrame(round(100*(lending_club.isnull().sum()/len(lending_club.index)), 2), columns=['null%Column'])\n",
    "#Create a Map Between Columns to Null% in DataFrame\n",
    "dictColumn2NullPercent = dict(zip(nullColumns.index,nullColumns['null%Column']))"
   ]
  },
  {
   "cell_type": "code",
   "execution_count": 548,
   "metadata": {},
   "outputs": [
    {
     "data": {
      "image/png": "[encoded data removed]",
      "text/plain": [
       "<Figure size 1296x432 with 1 Axes>"
      ]
     },
     "metadata": {},
     "output_type": "display_data"
    }
   ],
   "source": [
    "LendingClubCol_Df = pd.DataFrame(np.array(lending_club.columns), columns=['lending_club_columns'])\n",
    "LendingClubCol_Df['NullPrecentage'] = LendingClubCol_Df['lending_club_columns'].apply(lambda x: dictColumn2NullPercent.get(x))\n",
    "LendingClubCol_Df = LendingClubCol_Df.groupby('NullPrecentage').lending_club_columns.agg(['count']).sort_values(by='count', ascending=False).reset_index()\n",
    "plt.figure(figsize=(18,6))\n",
    "p = sns.barplot(x = 'NullPrecentage', y = 'count', data = LendingClubCol_Df)\n",
    "plt.xlabel('Null Percentage Of Columns', fontsize = 12)\n",
    "plt.ylabel('Count of Null %', fontsize= 12)\n",
    "plt.title('Columns to Null Percentage')\n",
    "plt.show()"
   ]
  },
  {
   "cell_type": "markdown",
   "metadata": {},
   "source": [
    "### ==> Remove all the columns from loan df having 100% Null values"
   ]
  },
  {
   "cell_type": "code",
   "execution_count": 549,
   "metadata": {},
   "outputs": [
    {
     "data": {
      "text/html": [
       "<div>\n",
       "<style scoped>\n",
       "    .dataframe tbody tr th:only-of-type {\n",
       "        vertical-align: middle;\n",
       "    }\n",
       "\n",
       "    .dataframe tbody tr th {\n",
       "        vertical-align: top;\n",
       "    }\n",
       "\n",
       "    .dataframe thead th {\n",
       "        text-align: right;\n",
       "    }\n",
       "</style>\n",
       "<table border=\"1\" class=\"dataframe\">\n",
       "  <thead>\n",
       "    <tr style=\"text-align: right;\">\n",
       "      <th></th>\n",
       "      <th>id</th>\n",
       "      <th>member_id</th>\n",
       "      <th>loan_amnt</th>\n",
       "      <th>funded_amnt</th>\n",
       "      <th>funded_amnt_inv</th>\n",
       "      <th>term</th>\n",
       "      <th>int_rate</th>\n",
       "      <th>installment</th>\n",
       "      <th>grade</th>\n",
       "      <th>sub_grade</th>\n",
       "      <th>...</th>\n",
       "      <th>next_pymnt_d</th>\n",
       "      <th>last_credit_pull_d</th>\n",
       "      <th>collections_12_mths_ex_med</th>\n",
       "      <th>policy_code</th>\n",
       "      <th>application_type</th>\n",
       "      <th>acc_now_delinq</th>\n",
       "      <th>chargeoff_within_12_mths</th>\n",
       "      <th>delinq_amnt</th>\n",
       "      <th>pub_rec_bankruptcies</th>\n",
       "      <th>tax_liens</th>\n",
       "    </tr>\n",
       "  </thead>\n",
       "  <tbody>\n",
       "    <tr>\n",
       "      <th>0</th>\n",
       "      <td>1077501</td>\n",
       "      <td>1296599</td>\n",
       "      <td>5000</td>\n",
       "      <td>5000</td>\n",
       "      <td>4975.0</td>\n",
       "      <td>36 months</td>\n",
       "      <td>10.65%</td>\n",
       "      <td>162.87</td>\n",
       "      <td>B</td>\n",
       "      <td>B2</td>\n",
       "      <td>...</td>\n",
       "      <td>NaN</td>\n",
       "      <td>May-16</td>\n",
       "      <td>0.0</td>\n",
       "      <td>1</td>\n",
       "      <td>INDIVIDUAL</td>\n",
       "      <td>0</td>\n",
       "      <td>0.0</td>\n",
       "      <td>0</td>\n",
       "      <td>0.0</td>\n",
       "      <td>0.0</td>\n",
       "    </tr>\n",
       "    <tr>\n",
       "      <th>1</th>\n",
       "      <td>1077430</td>\n",
       "      <td>1314167</td>\n",
       "      <td>2500</td>\n",
       "      <td>2500</td>\n",
       "      <td>2500.0</td>\n",
       "      <td>60 months</td>\n",
       "      <td>15.27%</td>\n",
       "      <td>59.83</td>\n",
       "      <td>C</td>\n",
       "      <td>C4</td>\n",
       "      <td>...</td>\n",
       "      <td>NaN</td>\n",
       "      <td>Sep-13</td>\n",
       "      <td>0.0</td>\n",
       "      <td>1</td>\n",
       "      <td>INDIVIDUAL</td>\n",
       "      <td>0</td>\n",
       "      <td>0.0</td>\n",
       "      <td>0</td>\n",
       "      <td>0.0</td>\n",
       "      <td>0.0</td>\n",
       "    </tr>\n",
       "    <tr>\n",
       "      <th>2</th>\n",
       "      <td>1077175</td>\n",
       "      <td>1313524</td>\n",
       "      <td>2400</td>\n",
       "      <td>2400</td>\n",
       "      <td>2400.0</td>\n",
       "      <td>36 months</td>\n",
       "      <td>15.96%</td>\n",
       "      <td>84.33</td>\n",
       "      <td>C</td>\n",
       "      <td>C5</td>\n",
       "      <td>...</td>\n",
       "      <td>NaN</td>\n",
       "      <td>May-16</td>\n",
       "      <td>0.0</td>\n",
       "      <td>1</td>\n",
       "      <td>INDIVIDUAL</td>\n",
       "      <td>0</td>\n",
       "      <td>0.0</td>\n",
       "      <td>0</td>\n",
       "      <td>0.0</td>\n",
       "      <td>0.0</td>\n",
       "    </tr>\n",
       "    <tr>\n",
       "      <th>3</th>\n",
       "      <td>1076863</td>\n",
       "      <td>1277178</td>\n",
       "      <td>10000</td>\n",
       "      <td>10000</td>\n",
       "      <td>10000.0</td>\n",
       "      <td>36 months</td>\n",
       "      <td>13.49%</td>\n",
       "      <td>339.31</td>\n",
       "      <td>C</td>\n",
       "      <td>C1</td>\n",
       "      <td>...</td>\n",
       "      <td>NaN</td>\n",
       "      <td>Apr-16</td>\n",
       "      <td>0.0</td>\n",
       "      <td>1</td>\n",
       "      <td>INDIVIDUAL</td>\n",
       "      <td>0</td>\n",
       "      <td>0.0</td>\n",
       "      <td>0</td>\n",
       "      <td>0.0</td>\n",
       "      <td>0.0</td>\n",
       "    </tr>\n",
       "    <tr>\n",
       "      <th>4</th>\n",
       "      <td>1075358</td>\n",
       "      <td>1311748</td>\n",
       "      <td>3000</td>\n",
       "      <td>3000</td>\n",
       "      <td>3000.0</td>\n",
       "      <td>60 months</td>\n",
       "      <td>12.69%</td>\n",
       "      <td>67.79</td>\n",
       "      <td>B</td>\n",
       "      <td>B5</td>\n",
       "      <td>...</td>\n",
       "      <td>Jun-16</td>\n",
       "      <td>May-16</td>\n",
       "      <td>0.0</td>\n",
       "      <td>1</td>\n",
       "      <td>INDIVIDUAL</td>\n",
       "      <td>0</td>\n",
       "      <td>0.0</td>\n",
       "      <td>0</td>\n",
       "      <td>0.0</td>\n",
       "      <td>0.0</td>\n",
       "    </tr>\n",
       "  </tbody>\n",
       "</table>\n",
       "<p>5 rows × 57 columns</p>\n",
       "</div>"
      ],
      "text/plain": [
       "        id  member_id  loan_amnt  funded_amnt  funded_amnt_inv        term  \\\n",
       "0  1077501    1296599       5000         5000           4975.0   36 months   \n",
       "1  1077430    1314167       2500         2500           2500.0   60 months   \n",
       "2  1077175    1313524       2400         2400           2400.0   36 months   \n",
       "3  1076863    1277178      10000        10000          10000.0   36 months   \n",
       "4  1075358    1311748       3000         3000           3000.0   60 months   \n",
       "\n",
       "  int_rate  installment grade sub_grade    ...    next_pymnt_d  \\\n",
       "0   10.65%       162.87     B        B2    ...             NaN   \n",
       "1   15.27%        59.83     C        C4    ...             NaN   \n",
       "2   15.96%        84.33     C        C5    ...             NaN   \n",
       "3   13.49%       339.31     C        C1    ...             NaN   \n",
       "4   12.69%        67.79     B        B5    ...          Jun-16   \n",
       "\n",
       "  last_credit_pull_d collections_12_mths_ex_med  policy_code application_type  \\\n",
       "0             May-16                        0.0            1       INDIVIDUAL   \n",
       "1             Sep-13                        0.0            1       INDIVIDUAL   \n",
       "2             May-16                        0.0            1       INDIVIDUAL   \n",
       "3             Apr-16                        0.0            1       INDIVIDUAL   \n",
       "4             May-16                        0.0            1       INDIVIDUAL   \n",
       "\n",
       "  acc_now_delinq chargeoff_within_12_mths delinq_amnt pub_rec_bankruptcies  \\\n",
       "0              0                      0.0           0                  0.0   \n",
       "1              0                      0.0           0                  0.0   \n",
       "2              0                      0.0           0                  0.0   \n",
       "3              0                      0.0           0                  0.0   \n",
       "4              0                      0.0           0                  0.0   \n",
       "\n",
       "  tax_liens  \n",
       "0       0.0  \n",
       "1       0.0  \n",
       "2       0.0  \n",
       "3       0.0  \n",
       "4       0.0  \n",
       "\n",
       "[5 rows x 57 columns]"
      ]
     },
     "execution_count": 549,
     "metadata": {},
     "output_type": "execute_result"
    }
   ],
   "source": [
    "#np Vectorized Function to Filter Null Columns from the Loan Dataframe\n",
    "Func_filterNullCol = np.vectorize(lambda x: True if dictColumn2NullPercent.get(x) < 100 else False)\n",
    "Func_filterNullCol(np.array(lending_club.columns))\n",
    "#Drop All the Null COlumns\n",
    "lending_club = lending_club.loc[:,Func_filterNullCol(np.array(lending_club.columns))]\n",
    "lending_club.head()"
   ]
  },
  {
   "cell_type": "markdown",
   "metadata": {},
   "source": [
    "### ==> Drop Columns with Single Unique Value as per Metadata Analysis"
   ]
  },
  {
   "cell_type": "code",
   "execution_count": 550,
   "metadata": {},
   "outputs": [],
   "source": [
    "unncessaryColumns = ['desc', 'title', 'initial_list_status','application_type',\n",
    "                     'acc_now_delinq', 'delinq_amnt', 'pymnt_plan', 'url', 'emp_title']\n",
    "lending_club.drop(columns=unncessaryColumns, inplace=True)"
   ]
  },
  {
   "cell_type": "markdown",
   "metadata": {},
   "source": [
    "## Basic Data Cleanup for All Columns"
   ]
  },
  {
   "cell_type": "markdown",
   "metadata": {},
   "source": [
    "### ```==> loan_amnt, funded_amnt, funded_amnt_inv ```"
   ]
  },
  {
   "cell_type": "code",
   "execution_count": 551,
   "metadata": {},
   "outputs": [],
   "source": [
    "#lending_club['loan_amnt'] = lending_club['loan_amnt'].apply(pd.to_numeric)\n",
    "#lending_club['funded_amnt'] = lending_club['funded_amnt'].apply(pd.to_numeric)\n",
    "#lending_club['funded_amnt_inv'] = lending_club['funded_amnt_inv'].apply(pd.to_numeric)\n",
    "#lending_club['annual_inc'] = lending_club['annual_inc'].apply(pd.to_numeric)"
   ]
  },
  {
   "cell_type": "markdown",
   "metadata": {},
   "source": [
    "### ```==> int_rate ```"
   ]
  },
  {
   "cell_type": "code",
   "execution_count": 552,
   "metadata": {},
   "outputs": [],
   "source": [
    "lending_club['int_rate'] = round(lending_club['int_rate'].apply(lambda x: (str(x).split(\"%\")[0])).apply(pd.to_numeric),0)"
   ]
  },
  {
   "cell_type": "markdown",
   "metadata": {},
   "source": [
    "### ```==> installment ```"
   ]
  },
  {
   "cell_type": "code",
   "execution_count": 553,
   "metadata": {},
   "outputs": [],
   "source": [
    "lending_club['installment'] = round(lending_club['installment'].apply(pd.to_numeric),0)"
   ]
  },
  {
   "cell_type": "markdown",
   "metadata": {},
   "source": [
    "### ```==> emp_length ```"
   ]
  },
  {
   "cell_type": "code",
   "execution_count": 554,
   "metadata": {},
   "outputs": [],
   "source": [
    "#Remove > and < Symbol and < 1 Value set to 0\n",
    "#lending_club['emp_length'] = lending_club['emp_length'].apply(lambda x: str(x).split(\"year\")[0].\\\n",
    "                                                    #strip().split(\"+\")[0]).apply(lambda x: 0 if str(x).find(\"<\") >=0 else x)\n"
   ]
  },
  {
   "cell_type": "markdown",
   "metadata": {},
   "source": [
    "### ```==> home_ownership ```"
   ]
  },
  {
   "cell_type": "code",
   "execution_count": 555,
   "metadata": {},
   "outputs": [],
   "source": [
    "# Only 3 Records in NONE Category with Full Paid, Hence same record is discarded\n",
    "lending_club = lending_club[lending_club['home_ownership']  != 'NONE']"
   ]
  },
  {
   "cell_type": "markdown",
   "metadata": {},
   "source": [
    "### ```==> issue_d, earliest_cr_line ```"
   ]
  },
  {
   "cell_type": "code",
   "execution_count": 556,
   "metadata": {},
   "outputs": [],
   "source": [
    "#lending_club['issue_d'] = lending_club['issue_d'].apply(changeDate2SequenceOfInt)\n",
    "#lending_club['earliest_cr_line'] = lending_club['earliest_cr_line'].apply(changeDate2SequenceOfInt)"
   ]
  },
  {
   "cell_type": "markdown",
   "metadata": {},
   "source": [
    "### ```==> zip_code ```"
   ]
  },
  {
   "cell_type": "code",
   "execution_count": 557,
   "metadata": {},
   "outputs": [],
   "source": [
    "lending_club['zip_code'] = lending_club['zip_code'].apply(lambda x: str(x)[0:3])"
   ]
  },
  {
   "cell_type": "markdown",
   "metadata": {},
   "source": [
    "### ```==> revol_util ```    ```***``` NAN Value Normalization Need to Check"
   ]
  },
  {
   "cell_type": "code",
   "execution_count": 558,
   "metadata": {},
   "outputs": [],
   "source": [
    "#Setting the default value 100%, Need to check futher \n",
    "lending_club.loc[(pd.isna(lending_club['revol_util'])), 'revol_util'] = 100.0\n",
    "lending_club['revol_util'] = round(lending_club['revol_util'].apply(lambda x: (str(x).split(\"%\")[0])).apply(pd.to_numeric),0)"
   ]
  },
  {
   "cell_type": "markdown",
   "metadata": {},
   "source": [
    "### ```==> next_pymnt_d, last_pymnt_d, last_credit_pull_d ```"
   ]
  },
  {
   "cell_type": "code",
   "execution_count": 559,
   "metadata": {},
   "outputs": [],
   "source": [
    "lending_club['next_pymnt_d'] = lending_club['next_pymnt_d'].apply(changeDate2SequenceOfInt)\n",
    "#lending_club['last_pymnt_d'] = lending_club['last_pymnt_d'].apply(changeDate2SequenceOfInt)\n",
    "lending_club['last_credit_pull_d'] = lending_club['last_credit_pull_d'].apply(changeDate2SequenceOfInt)"
   ]
  },
  {
   "cell_type": "markdown",
   "metadata": {},
   "source": [
    "==> Data Cleanup loan_status <br>\n",
    "Since the Current loan statuses cannot be used to determine whether a loan is paid or charged off, <br>\n",
    "We will remove the loan_status with the value Current. We will save it in a separate dataframe for future analysis"
   ]
  },
  {
   "cell_type": "code",
   "execution_count": 560,
   "metadata": {},
   "outputs": [],
   "source": [
    "lending_club_master = lending_club\n",
    "lending_club_current = lending_club.loc[lending_club['loan_status'] == 'Current']\n",
    "lending_club = lending_club.loc[lending_club['loan_status'] != 'Current']\n",
    "lending_club_ChargedOff = lending_club.loc[lending_club['loan_status'] == 'Charged Off']"
   ]
  },
  {
   "cell_type": "markdown",
   "metadata": {},
   "source": [
    "# Data Analysis for loan_amnt"
   ]
  },
  {
   "cell_type": "code",
   "execution_count": 561,
   "metadata": {},
   "outputs": [
    {
     "name": "stdout",
     "output_type": "stream",
     "text": [
      "count    38574.000000\n",
      "mean     11047.449059\n",
      "std       7348.517888\n",
      "min        500.000000\n",
      "0%         500.000000\n",
      "10%       3100.000000\n",
      "20%       5000.000000\n",
      "30.0%     6000.000000\n",
      "40%       7750.000000\n",
      "50%       9600.000000\n",
      "60.0%    11200.000000\n",
      "70%      14000.000000\n",
      "80%      16000.000000\n",
      "90%      21600.000000\n",
      "100%     35000.000000\n",
      "max      35000.000000\n",
      "Name: loan_amnt, dtype: float64\n",
      "Number of null values for the column loan_amnt : 0\n"
     ]
    },
    {
     "data": {
      "image/png": "[encoded data removed]",
      "text/plain": [
       "<Figure size 720x720 with 2 Axes>"
      ]
     },
     "metadata": {},
     "output_type": "display_data"
    },
    {
     "data": {
      "image/png": "[encoded data removed]",
      "text/plain": [
       "<Figure size 432x288 with 1 Axes>"
      ]
     },
     "metadata": {},
     "output_type": "display_data"
    }
   ],
   "source": [
    "do_analysis(lending_club, 'loan_amnt')"
   ]
  },
  {
   "cell_type": "markdown",
   "metadata": {},
   "source": [
    "## Insight.\n",
    "The loan amount has spikes at the round numbers like 5, 000$, 10,000 $, 15, 000$, 20, 000$ 25, 000 $ etc. <br/>\n",
    "This can be an input to the UX team or the Business Development team to create loan packages at these round numbers."
   ]
  },
  {
   "cell_type": "code",
   "execution_count": 562,
   "metadata": {},
   "outputs": [
    {
     "name": "stdout",
     "output_type": "stream",
     "text": [
      "Ttest_indResult(statistic=11.694718423883753, pvalue=1.533449120688028e-31)\n"
     ]
    }
   ],
   "source": [
    "run_t_test(lending_club, 'loan_amnt')"
   ]
  },
  {
   "cell_type": "markdown",
   "metadata": {},
   "source": [
    "## Insight.\n",
    "Visually, there seems to be a slightdifference in the means of the loan amount for charged off and fully paid. <br/>\n",
    "However, T Test indicates that loan amount has a bearing on the loan defaults"
   ]
  },
  {
   "cell_type": "markdown",
   "metadata": {},
   "source": [
    "# Data Cleanup for loan_amnt"
   ]
  },
  {
   "cell_type": "markdown",
   "metadata": {},
   "source": [
    "## Data Cleanup:  We will not remove any row for loan_amnt as all the rows seem valid."
   ]
  },
  {
   "cell_type": "markdown",
   "metadata": {},
   "source": [
    "# Insights for loan_amnt"
   ]
  },
  {
   "cell_type": "code",
   "execution_count": 563,
   "metadata": {},
   "outputs": [
    {
     "data": {
      "text/html": [
       "<div>\n",
       "<style scoped>\n",
       "    .dataframe tbody tr th:only-of-type {\n",
       "        vertical-align: middle;\n",
       "    }\n",
       "\n",
       "    .dataframe tbody tr th {\n",
       "        vertical-align: top;\n",
       "    }\n",
       "\n",
       "    .dataframe thead th {\n",
       "        text-align: right;\n",
       "    }\n",
       "</style>\n",
       "<table border=\"1\" class=\"dataframe\">\n",
       "  <thead>\n",
       "    <tr style=\"text-align: right;\">\n",
       "      <th></th>\n",
       "      <th>annual_inc</th>\n",
       "      <th>loan_amnt</th>\n",
       "    </tr>\n",
       "  </thead>\n",
       "  <tbody>\n",
       "    <tr>\n",
       "      <th>annual_inc</th>\n",
       "      <td>1.000000</td>\n",
       "      <td>0.269045</td>\n",
       "    </tr>\n",
       "    <tr>\n",
       "      <th>loan_amnt</th>\n",
       "      <td>0.269045</td>\n",
       "      <td>1.000000</td>\n",
       "    </tr>\n",
       "  </tbody>\n",
       "</table>\n",
       "</div>"
      ],
      "text/plain": [
       "            annual_inc  loan_amnt\n",
       "annual_inc    1.000000   0.269045\n",
       "loan_amnt     0.269045   1.000000"
      ]
     },
     "execution_count": 563,
     "metadata": {},
     "output_type": "execute_result"
    }
   ],
   "source": [
    "lending_club[['annual_inc', 'loan_amnt']].corr()"
   ]
  },
  {
   "cell_type": "markdown",
   "metadata": {},
   "source": [
    "## Insight \n",
    "The Loan amount is corelated positively with the annual income"
   ]
  },
  {
   "cell_type": "markdown",
   "metadata": {},
   "source": [
    "# Data Analysis for funded_amnt"
   ]
  },
  {
   "cell_type": "code",
   "execution_count": 564,
   "metadata": {},
   "outputs": [
    {
     "name": "stdout",
     "output_type": "stream",
     "text": [
      " 4.55\n"
     ]
    }
   ],
   "source": [
    "# Is funded_amnt same as loan amnt. \n",
    "#What % of rows where funded amount and loan amount are not same.\n",
    "percent_difference = lending_club.loc[lending_club['loan_amnt'] != lending_club['funded_amnt']]['funded_amnt'].shape[0]/ lending_club.shape[0]\n",
    "print(\"% .2f\" % (percent_difference * 100))"
   ]
  },
  {
   "cell_type": "code",
   "execution_count": 565,
   "metadata": {},
   "outputs": [
    {
     "data": {
      "text/plain": [
       "10144475"
      ]
     },
     "execution_count": 565,
     "metadata": {},
     "output_type": "execute_result"
    }
   ],
   "source": [
    "# Is the monetary difference more. yes\n",
    "(lending_club['loan_amnt'] - lending_club['funded_amnt']).sum()"
   ]
  },
  {
   "cell_type": "code",
   "execution_count": 566,
   "metadata": {},
   "outputs": [
    {
     "name": "stdout",
     "output_type": "stream",
     "text": [
      "count    38574.000000\n",
      "mean     10784.461684\n",
      "std       7090.379936\n",
      "min        500.000000\n",
      "0%         500.000000\n",
      "10%       3000.000000\n",
      "20%       5000.000000\n",
      "30.0%     6000.000000\n",
      "40%       7500.000000\n",
      "50%       9550.000000\n",
      "60.0%    10875.000000\n",
      "70%      13000.000000\n",
      "80%      16000.000000\n",
      "90%      20000.000000\n",
      "100%     35000.000000\n",
      "max      35000.000000\n",
      "Name: funded_amnt, dtype: float64\n",
      "Number of null values for the column funded_amnt : 0\n"
     ]
    },
    {
     "data": {
      "image/png": "[encoded data removed]",
      "text/plain": [
       "<Figure size 720x720 with 2 Axes>"
      ]
     },
     "metadata": {},
     "output_type": "display_data"
    },
    {
     "data": {
      "image/png": "[encoded data removed]",
      "text/plain": [
       "<Figure size 432x288 with 1 Axes>"
      ]
     },
     "metadata": {},
     "output_type": "display_data"
    }
   ],
   "source": [
    "do_analysis(lending_club, 'funded_amnt')"
   ]
  },
  {
   "cell_type": "markdown",
   "metadata": {},
   "source": [
    "# Insight\n",
    "Charged off has a higher average funded amount than the fully paid segment <br>\n",
    "Also, since the loan_amount and funded_amount are highly corelated, and there is not a lot a difference, we can just use the funded_amount column and drop the loan amount column."
   ]
  },
  {
   "cell_type": "markdown",
   "metadata": {},
   "source": [
    "# Data Cleanup for funded_amnt"
   ]
  },
  {
   "cell_type": "markdown",
   "metadata": {},
   "source": [
    "# Insights for funded_amnt"
   ]
  },
  {
   "cell_type": "code",
   "execution_count": 567,
   "metadata": {},
   "outputs": [
    {
     "data": {
      "text/html": [
       "<div>\n",
       "<style scoped>\n",
       "    .dataframe tbody tr th:only-of-type {\n",
       "        vertical-align: middle;\n",
       "    }\n",
       "\n",
       "    .dataframe tbody tr th {\n",
       "        vertical-align: top;\n",
       "    }\n",
       "\n",
       "    .dataframe thead th {\n",
       "        text-align: right;\n",
       "    }\n",
       "</style>\n",
       "<table border=\"1\" class=\"dataframe\">\n",
       "  <thead>\n",
       "    <tr style=\"text-align: right;\">\n",
       "      <th></th>\n",
       "      <th>loan_amnt</th>\n",
       "      <th>funded_amnt</th>\n",
       "    </tr>\n",
       "  </thead>\n",
       "  <tbody>\n",
       "    <tr>\n",
       "      <th>loan_amnt</th>\n",
       "      <td>1.000000</td>\n",
       "      <td>0.981789</td>\n",
       "    </tr>\n",
       "    <tr>\n",
       "      <th>funded_amnt</th>\n",
       "      <td>0.981789</td>\n",
       "      <td>1.000000</td>\n",
       "    </tr>\n",
       "  </tbody>\n",
       "</table>\n",
       "</div>"
      ],
      "text/plain": [
       "             loan_amnt  funded_amnt\n",
       "loan_amnt     1.000000     0.981789\n",
       "funded_amnt   0.981789     1.000000"
      ]
     },
     "execution_count": 567,
     "metadata": {},
     "output_type": "execute_result"
    }
   ],
   "source": [
    "# corelation between loan amount and funded amount\n",
    "lending_club[['loan_amnt', 'funded_amnt']].corr()"
   ]
  },
  {
   "cell_type": "markdown",
   "metadata": {},
   "source": [
    "# Data Analysis for funded_amnt_inv"
   ]
  },
  {
   "cell_type": "code",
   "execution_count": 568,
   "metadata": {},
   "outputs": [
    {
     "name": "stdout",
     "output_type": "stream",
     "text": [
      "count    38574.000000\n",
      "mean     10223.152285\n",
      "std       7022.580869\n",
      "min          0.000000\n",
      "0%           0.000000\n",
      "10%       2827.665000\n",
      "20%       4375.162000\n",
      "30.0%     5600.000000\n",
      "40%       7000.000000\n",
      "50%       8736.649151\n",
      "60.0%    10000.000000\n",
      "70%      12150.000000\n",
      "80%      15000.000000\n",
      "90%      19975.000000\n",
      "100%     35000.000000\n",
      "max      35000.000000\n",
      "Name: funded_amnt_inv, dtype: float64\n",
      "Number of null values for the column funded_amnt_inv : 0\n"
     ]
    },
    {
     "data": {
      "image/png": "[encoded data removed]",
      "text/plain": [
       "<Figure size 720x720 with 2 Axes>"
      ]
     },
     "metadata": {},
     "output_type": "display_data"
    },
    {
     "data": {
      "image/png": "[encoded data removed]",
      "text/plain": [
       "<Figure size 432x288 with 1 Axes>"
      ]
     },
     "metadata": {},
     "output_type": "display_data"
    }
   ],
   "source": [
    "do_analysis(lending_club, 'funded_amnt_inv')"
   ]
  },
  {
   "cell_type": "markdown",
   "metadata": {},
   "source": [
    "# Data Cleanup for funded_amnt_inv"
   ]
  },
  {
   "cell_type": "markdown",
   "metadata": {},
   "source": [
    "# Insights for funded_amnt_inv"
   ]
  },
  {
   "cell_type": "markdown",
   "metadata": {},
   "source": [
    "# Data Analysis for term"
   ]
  },
  {
   "cell_type": "code",
   "execution_count": 569,
   "metadata": {},
   "outputs": [
    {
     "data": {
      "text/plain": [
       " 36 months    29093\n",
       " 60 months     9481\n",
       "Name: term, dtype: int64"
      ]
     },
     "execution_count": 569,
     "metadata": {},
     "output_type": "execute_result"
    }
   ],
   "source": [
    "lending_club['term'].value_counts()"
   ]
  },
  {
   "cell_type": "code",
   "execution_count": 570,
   "metadata": {},
   "outputs": [
    {
     "name": "stdout",
     "output_type": "stream",
     "text": [
      " 36 months    29093\n",
      " 60 months     9481\n",
      "Name: term, dtype: int64\n",
      "loan_status  Charged Off  Fully Paid    All  Paid Percentage  \\\n",
      "term                                                           \n",
      " 36 months          3227       25866  29093        88.907985   \n",
      " 60 months          2400        7081   9481        74.686215   \n",
      "All                 5627       32947  38574        85.412454   \n",
      "\n",
      "loan_status  Charged Off Percentage  \n",
      "term                                 \n",
      " 36 months                11.092015  \n",
      " 60 months                25.313785  \n",
      "All                       14.587546  \n"
     ]
    },
    {
     "data": {
      "image/png": "[encoded data removed]",
      "text/plain": [
       "<Figure size 1728x576 with 1 Axes>"
      ]
     },
     "metadata": {},
     "output_type": "display_data"
    }
   ],
   "source": [
    "do_analysis_categorical(lending_club, 'term')"
   ]
  },
  {
   "cell_type": "markdown",
   "metadata": {},
   "source": [
    "## Insight : term\n",
    "11% of customers with tenure of 36 months default <br>\n",
    "25.42 % of the customers with tenure of 60 months default <br>\n",
    "Higher tenure leads to higher default rates."
   ]
  },
  {
   "cell_type": "markdown",
   "metadata": {},
   "source": [
    "# Data Cleanup for term"
   ]
  },
  {
   "cell_type": "markdown",
   "metadata": {},
   "source": [
    "# Insights for term"
   ]
  },
  {
   "cell_type": "markdown",
   "metadata": {},
   "source": [
    "# Data Analysis for int_rate"
   ]
  },
  {
   "cell_type": "markdown",
   "metadata": {},
   "source": [
    "# Data Cleanup for int_rate"
   ]
  },
  {
   "cell_type": "markdown",
   "metadata": {},
   "source": [
    "# Insights for int_rate"
   ]
  },
  {
   "cell_type": "markdown",
   "metadata": {},
   "source": [
    "# Data Analysis for installment"
   ]
  },
  {
   "cell_type": "code",
   "execution_count": 571,
   "metadata": {},
   "outputs": [
    {
     "data": {
      "text/plain": [
       "156.0     250\n",
       "311.0     194\n",
       "187.0     172\n",
       "249.0     154\n",
       "313.0     151\n",
       "152.0     148\n",
       "154.0     144\n",
       "243.0     143\n",
       "163.0     141\n",
       "168.0     138\n",
       "164.0     135\n",
       "188.0     132\n",
       "198.0     132\n",
       "262.0     132\n",
       "165.0     130\n",
       "324.0     130\n",
       "161.0     129\n",
       "130.0     129\n",
       "389.0     128\n",
       "170.0     128\n",
       "196.0     128\n",
       "93.0      126\n",
       "98.0      125\n",
       "124.0     124\n",
       "316.0     123\n",
       "185.0     123\n",
       "195.0     123\n",
       "339.0     122\n",
       "166.0     122\n",
       "97.0      121\n",
       "         ... \n",
       "1015.0      1\n",
       "973.0       1\n",
       "1137.0      1\n",
       "1033.0      1\n",
       "978.0       1\n",
       "1295.0      1\n",
       "1158.0      1\n",
       "1250.0      1\n",
       "1265.0      1\n",
       "1106.0      1\n",
       "946.0       1\n",
       "1043.0      1\n",
       "982.0       1\n",
       "1128.0      1\n",
       "936.0       1\n",
       "938.0       1\n",
       "1156.0      1\n",
       "846.0       1\n",
       "1303.0      1\n",
       "1173.0      1\n",
       "943.0       1\n",
       "895.0       1\n",
       "1023.0      1\n",
       "954.0       1\n",
       "1284.0      1\n",
       "927.0       1\n",
       "1088.0      1\n",
       "22.0        1\n",
       "920.0       1\n",
       "950.0       1\n",
       "Name: installment, Length: 1048, dtype: int64"
      ]
     },
     "execution_count": 571,
     "metadata": {},
     "output_type": "execute_result"
    }
   ],
   "source": [
    "lending_club['installment'].value_counts()\n",
    "#lending_club['installment'].isnull().sum()"
   ]
  },
  {
   "cell_type": "code",
   "execution_count": 572,
   "metadata": {},
   "outputs": [
    {
     "name": "stdout",
     "output_type": "stream",
     "text": [
      "count    38574.000000\n",
      "mean       322.481490\n",
      "std        208.637858\n",
      "min         16.000000\n",
      "0%          16.000000\n",
      "10%         99.000000\n",
      "20%        150.000000\n",
      "30.0%      186.000000\n",
      "40%        229.000000\n",
      "50%        278.000000\n",
      "60.0%      328.000000\n",
      "70%        387.000000\n",
      "80%        480.000000\n",
      "90%        621.000000\n",
      "100%      1305.000000\n",
      "max       1305.000000\n",
      "Name: installment, dtype: float64\n",
      "Number of null values for the column installment : 0\n"
     ]
    },
    {
     "data": {
      "image/png": "[encoded data removed]",
      "text/plain": [
       "<Figure size 720x720 with 2 Axes>"
      ]
     },
     "metadata": {},
     "output_type": "display_data"
    },
    {
     "data": {
      "image/png": "[encoded data removed]",
      "text/plain": [
       "<Figure size 432x288 with 1 Axes>"
      ]
     },
     "metadata": {},
     "output_type": "display_data"
    }
   ],
   "source": [
    "do_analysis(lending_club, 'installment')"
   ]
  },
  {
   "cell_type": "code",
   "execution_count": 573,
   "metadata": {},
   "outputs": [
    {
     "data": {
      "text/html": [
       "<div>\n",
       "<style scoped>\n",
       "    .dataframe tbody tr th:only-of-type {\n",
       "        vertical-align: middle;\n",
       "    }\n",
       "\n",
       "    .dataframe tbody tr th {\n",
       "        vertical-align: top;\n",
       "    }\n",
       "\n",
       "    .dataframe thead th {\n",
       "        text-align: right;\n",
       "    }\n",
       "</style>\n",
       "<table border=\"1\" class=\"dataframe\">\n",
       "  <thead>\n",
       "    <tr style=\"text-align: right;\">\n",
       "      <th></th>\n",
       "      <th>loan_amnt</th>\n",
       "      <th>installment</th>\n",
       "    </tr>\n",
       "  </thead>\n",
       "  <tbody>\n",
       "    <tr>\n",
       "      <th>loan_amnt</th>\n",
       "      <td>1.000000</td>\n",
       "      <td>0.932256</td>\n",
       "    </tr>\n",
       "    <tr>\n",
       "      <th>installment</th>\n",
       "      <td>0.932256</td>\n",
       "      <td>1.000000</td>\n",
       "    </tr>\n",
       "  </tbody>\n",
       "</table>\n",
       "</div>"
      ],
      "text/plain": [
       "             loan_amnt  installment\n",
       "loan_amnt     1.000000     0.932256\n",
       "installment   0.932256     1.000000"
      ]
     },
     "execution_count": 573,
     "metadata": {},
     "output_type": "execute_result"
    }
   ],
   "source": [
    "# corelation between loan amount and funded amount\n",
    "lending_club[['loan_amnt', 'installment']].corr()"
   ]
  },
  {
   "cell_type": "code",
   "execution_count": 574,
   "metadata": {},
   "outputs": [
    {
     "name": "stderr",
     "output_type": "stream",
     "text": [
      "/Users/amirisev/.local/lib/python3.6/site-packages/ipykernel_launcher.py:16: SettingWithCopyWarning: \n",
      "A value is trying to be set on a copy of a slice from a DataFrame.\n",
      "Try using .loc[row_indexer,col_indexer] = value instead\n",
      "\n",
      "See the caveats in the documentation: http://pandas.pydata.org/pandas-docs/stable/indexing.html#indexing-view-versus-copy\n",
      "  app.launch_new_instance()\n"
     ]
    },
    {
     "name": "stdout",
     "output_type": "stream",
     "text": [
      "200-400     14708\n",
      "0-200       13112\n",
      "400-600      6548\n",
      "600-800      2636\n",
      "800-1000     1335\n",
      "1000>         235\n",
      "Name: categorical_installment, dtype: int64\n",
      "loan_status              Charged Off  Fully Paid    All  Paid Percentage  \\\n",
      "categorical_installment                                                    \n",
      "0-200                           1819       11293  13112        86.127212   \n",
      "1000>                             25         210    235        89.361702   \n",
      "200-400                         2061       12647  14708        85.987218   \n",
      "400-600                         1044        5504   6548        84.056200   \n",
      "600-800                          432        2204   2636        83.611533   \n",
      "800-1000                         246        1089   1335        81.573034   \n",
      "All                             5627       32947  38574        85.412454   \n",
      "\n",
      "loan_status              Charged Off Percentage  \n",
      "categorical_installment                          \n",
      "0-200                                 13.872788  \n",
      "1000>                                 10.638298  \n",
      "200-400                               14.012782  \n",
      "400-600                               15.943800  \n",
      "600-800                               16.388467  \n",
      "800-1000                              18.426966  \n",
      "All                                   14.587546  \n"
     ]
    },
    {
     "data": {
      "image/png": "[encoded data removed]",
      "text/plain": [
       "<Figure size 1728x576 with 1 Axes>"
      ]
     },
     "metadata": {},
     "output_type": "display_data"
    }
   ],
   "source": [
    "#categorizing the installment to bins to get better insights\n",
    "def categorizefunc(x):\n",
    "    if (x>0 and x<=200) :\n",
    "        return '0-200' \n",
    "    elif (x>200 and x<=400):\n",
    "        return '200-400' \n",
    "    elif(x>400 and x<=600): \n",
    "        return '400-600' \n",
    "    elif(x>600 and x<=800): \n",
    "        return '600-800' \n",
    "    elif(x>800 and x<=1000):\n",
    "        return '800-1000'\n",
    "    else:\n",
    "        return '1000>'\n",
    "                                                                          \n",
    "lending_club['categorical_installment']=lending_club['installment'].apply(categorizefunc)\n",
    "lending_club['categorical_installment']\n",
    "do_analysis_categorical(lending_club, 'categorical_installment')"
   ]
  },
  {
   "cell_type": "markdown",
   "metadata": {},
   "source": [
    "# Data Cleanup for installment"
   ]
  },
  {
   "cell_type": "markdown",
   "metadata": {},
   "source": [
    "We will not remove any row for installment as all the rows seem valid.\n"
   ]
  },
  {
   "cell_type": "markdown",
   "metadata": {},
   "source": [
    "# Insights for installment"
   ]
  },
  {
   "cell_type": "markdown",
   "metadata": {},
   "source": [
    "correlation between installment and loan_amount is high.\n",
    "more number of customers pay installment around $180.\n",
    "The number of fully paid loans are with installments between 200 to 400\n"
   ]
  },
  {
   "cell_type": "markdown",
   "metadata": {},
   "source": [
    "# Data Analysis for grade"
   ]
  },
  {
   "cell_type": "code",
   "execution_count": null,
   "metadata": {},
   "outputs": [],
   "source": [
    "pltUniVariableAnalysis('grade',lending_club)"
   ]
  },
  {
   "cell_type": "code",
   "execution_count": null,
   "metadata": {},
   "outputs": [],
   "source": [
    "pltUniVariableAnalysis('grade',lending_club_ChargedOff)"
   ]
  },
  {
   "cell_type": "markdown",
   "metadata": {},
   "source": [
    "# Data Cleanup for grade"
   ]
  },
  {
   "cell_type": "markdown",
   "metadata": {},
   "source": [
    "# Insights for grade"
   ]
  },
  {
   "cell_type": "markdown",
   "metadata": {},
   "source": [
    "* Maximum Loan Provided to A, B, C and D Group Subscriber\n",
    "* Maximum loan provided to B,C and D Group \"Charged Off\" subscriber "
   ]
  },
  {
   "cell_type": "markdown",
   "metadata": {},
   "source": [
    "# Data Analysis for sub_grade"
   ]
  },
  {
   "cell_type": "code",
   "execution_count": null,
   "metadata": {},
   "outputs": [],
   "source": [
    "pltUniVariableAnalysis('sub_grade', lending_club.sort_values(by='sub_grade'))"
   ]
  },
  {
   "cell_type": "code",
   "execution_count": null,
   "metadata": {},
   "outputs": [],
   "source": [
    "pltUniVariableAnalysis('sub_grade', lending_club_ChargedOff.sort_values(by='sub_grade'))"
   ]
  },
  {
   "cell_type": "markdown",
   "metadata": {},
   "source": [
    "# Data Cleanup for sub_grade"
   ]
  },
  {
   "cell_type": "markdown",
   "metadata": {},
   "source": [
    "# Insights for sub_grade"
   ]
  },
  {
   "cell_type": "markdown",
   "metadata": {},
   "source": [
    "* Most of the Loans are Given in Upper Sub-Grades"
   ]
  },
  {
   "cell_type": "markdown",
   "metadata": {},
   "source": [
    "# Data Analysis for emp_title"
   ]
  },
  {
   "cell_type": "markdown",
   "metadata": {},
   "source": [
    "# Data Cleanup for emp_title"
   ]
  },
  {
   "cell_type": "markdown",
   "metadata": {},
   "source": [
    "# Insights for emp_title"
   ]
  },
  {
   "cell_type": "markdown",
   "metadata": {},
   "source": [
    "# Data Analysis for emp_length"
   ]
  },
  {
   "cell_type": "code",
   "execution_count": null,
   "metadata": {},
   "outputs": [],
   "source": [
    "lending_club.emp_length.fillna('0',inplace=True)\n",
    "print(np.dtype(lending_club.emp_length))\n",
    "lending_club['emp_length']=lending_club['emp_length'].apply(lambda x: str(x).split(\"year\")[0].strip().split(\"+\")[0]).apply(lambda x: 0 if str(x).find(\"<\") >=0 else x)\n",
    "lending_club['emp_length']=lending_club.emp_length.astype(int)\n",
    "print(np.dtype(lending_club.emp_length))"
   ]
  },
  {
   "cell_type": "markdown",
   "metadata": {},
   "source": [
    "# Data Cleanup for emp_length"
   ]
  },
  {
   "cell_type": "markdown",
   "metadata": {},
   "source": [
    "# Insights for emp_length"
   ]
  },
  {
   "cell_type": "markdown",
   "metadata": {},
   "source": [
    "# Data Analysis for home_ownership"
   ]
  },
  {
   "cell_type": "code",
   "execution_count": null,
   "metadata": {},
   "outputs": [],
   "source": [
    "pltUniVariableAnalysis('home_ownership',lending_club_master)"
   ]
  },
  {
   "cell_type": "code",
   "execution_count": null,
   "metadata": {},
   "outputs": [],
   "source": [
    "pltUniVariableAnalysis('home_ownership', lending_club_ChargedOff)"
   ]
  },
  {
   "cell_type": "code",
   "execution_count": null,
   "metadata": {},
   "outputs": [],
   "source": [
    "columnName = 'home_ownership'\n",
    "title1 = 'Loan Amount Distribution Based on Home Ownership for ChargedOff Subscriber'\n",
    "title2 = 'Loan Amount Distribution Based on Home Ownership for Fully Paid Subscriber'\n",
    "pltCategorical(columnName, title1, title2)"
   ]
  },
  {
   "cell_type": "markdown",
   "metadata": {},
   "source": [
    "# Data Cleanup for home_ownership"
   ]
  },
  {
   "cell_type": "markdown",
   "metadata": {},
   "source": [
    "# Insights for home_ownership"
   ]
  },
  {
   "cell_type": "markdown",
   "metadata": {},
   "source": [
    "* Most of the Defaulter Home Ownership status is \"Mortgage\" and \"Rent\"."
   ]
  },
  {
   "cell_type": "markdown",
   "metadata": {},
   "source": [
    "# Data Analysis for annual_inc"
   ]
  },
  {
   "cell_type": "code",
   "execution_count": null,
   "metadata": {},
   "outputs": [],
   "source": [
    "do_analysis(lending_club, 'annual_inc')"
   ]
  },
  {
   "cell_type": "markdown",
   "metadata": {},
   "source": [
    "# Data Cleanup for annual_inc"
   ]
  },
  {
   "cell_type": "code",
   "execution_count": null,
   "metadata": {},
   "outputs": [],
   "source": [
    "# 5th percentile\n",
    "lending_club.annual_inc.quantile(0.05)"
   ]
  },
  {
   "cell_type": "code",
   "execution_count": null,
   "metadata": {},
   "outputs": [],
   "source": [
    "#What percent of values fall below the 5th percentile?\n",
    "percent = lending_club.loc[lending_club['annual_inc'] < 24000].shape[0] * 100 / lending_club.shape[0]\n",
    "print(\"% .2f\" % percent)"
   ]
  },
  {
   "cell_type": "code",
   "execution_count": null,
   "metadata": {},
   "outputs": [],
   "source": [
    "# 95th percentile\n",
    "lending_club.annual_inc.quantile(0.99)"
   ]
  },
  {
   "cell_type": "code",
   "execution_count": null,
   "metadata": {},
   "outputs": [],
   "source": [
    "# Percentage of values that fall in above the 99th percentile (i.e top 1 percentile)\n",
    "percent = lending_club.loc[lending_club['annual_inc'] > 234999].shape[0] * 100/ lending_club.shape[0]\n",
    "print(\"% .2f\" % percent)"
   ]
  },
  {
   "cell_type": "code",
   "execution_count": null,
   "metadata": {},
   "outputs": [],
   "source": [
    "lending_club['annual_inc'].describe()"
   ]
  },
  {
   "cell_type": "markdown",
   "metadata": {},
   "source": [
    "The spread is between around 40,000 and 82,300. We will drop the outliers top 99 percentile. We will not remove the bottom 5 percentile because the lenders can be from the low income group. Also below the 5th percentile, there are 5% of rows. so we will not remove the bottom 5th percentile."
   ]
  },
  {
   "cell_type": "code",
   "execution_count": null,
   "metadata": {},
   "outputs": [],
   "source": [
    "# Removing the top 1 percentile of outliers\n",
    "lending_club = lending_club.loc[lending_club['annual_inc'] < 234999]"
   ]
  },
  {
   "cell_type": "markdown",
   "metadata": {},
   "source": [
    "# Insights for annual_inc"
   ]
  },
  {
   "cell_type": "markdown",
   "metadata": {},
   "source": [
    "# Data Analysis for verification_status"
   ]
  },
  {
   "cell_type": "markdown",
   "metadata": {},
   "source": [
    "# Data Cleanup for verification_status"
   ]
  },
  {
   "cell_type": "markdown",
   "metadata": {},
   "source": [
    "# Insights for verification_status"
   ]
  },
  {
   "cell_type": "markdown",
   "metadata": {},
   "source": [
    "# Data Analysis for issue_d"
   ]
  },
  {
   "cell_type": "code",
   "execution_count": null,
   "metadata": {},
   "outputs": [],
   "source": [
    "lending_club['issue_d']\n",
    "lending_club['issue_month']=lending_club['issue_d'].apply(lambda x:x.split('-')[0])\n",
    "lending_club['issue_year']=lending_club['issue_d'].apply(lambda x:x.split('-')[1])\n",
    "lending_club['issue_year'].apply(pd.to_numeric)"
   ]
  },
  {
   "cell_type": "code",
   "execution_count": null,
   "metadata": {},
   "outputs": [],
   "source": [
    "percentileanalysis('issue_year','loan_status')"
   ]
  },
  {
   "cell_type": "markdown",
   "metadata": {},
   "source": [
    "# Data Cleanup for issue_d"
   ]
  },
  {
   "cell_type": "markdown",
   "metadata": {
    "collapsed": true
   },
   "source": [
    "No clean up done for issue_d as there are no null values."
   ]
  },
  {
   "cell_type": "markdown",
   "metadata": {},
   "source": [
    "# Insights for issue_d"
   ]
  },
  {
   "cell_type": "markdown",
   "metadata": {},
   "source": [
    "# Data Analysis for loan_status"
   ]
  },
  {
   "cell_type": "code",
   "execution_count": null,
   "metadata": {},
   "outputs": [],
   "source": [
    "lending_club_master.pivot_table(values='loan_amnt', index='loan_status', aggfunc='count').plot(kind='bar', stacked=True, figsize=(20, 8), fontsize=15)\n"
   ]
  },
  {
   "cell_type": "markdown",
   "metadata": {},
   "source": [
    "# Data Cleanup for loan_status"
   ]
  },
  {
   "cell_type": "markdown",
   "metadata": {},
   "source": [
    "# Insights for loan_status"
   ]
  },
  {
   "cell_type": "markdown",
   "metadata": {},
   "source": [
    "* Number of Defaulters are Comparatively more than the susbcriber for which running. Fully Paid Loan subscriber Count is Higest"
   ]
  },
  {
   "cell_type": "markdown",
   "metadata": {},
   "source": [
    "# Data Analysis for url"
   ]
  },
  {
   "cell_type": "markdown",
   "metadata": {},
   "source": [
    "# Data Cleanup for url"
   ]
  },
  {
   "cell_type": "markdown",
   "metadata": {},
   "source": [
    "# Insights for url"
   ]
  },
  {
   "cell_type": "markdown",
   "metadata": {},
   "source": [
    "# Data Analysis for desc"
   ]
  },
  {
   "cell_type": "markdown",
   "metadata": {},
   "source": [
    "# Data Cleanup for desc"
   ]
  },
  {
   "cell_type": "markdown",
   "metadata": {},
   "source": [
    "# Insights for desc"
   ]
  },
  {
   "cell_type": "markdown",
   "metadata": {},
   "source": [
    " # Data Analysis for purpose"
   ]
  },
  {
   "cell_type": "code",
   "execution_count": null,
   "metadata": {},
   "outputs": [],
   "source": [
    "lending_club_ChargedOff.pivot_table(values='loan_amnt', index='purpose', aggfunc='sum').sort_values(by='loan_amnt', ascending=False).plot(kind='bar', stacked=True, figsize=(20, 8), fontsize=15)"
   ]
  },
  {
   "cell_type": "code",
   "execution_count": null,
   "metadata": {},
   "outputs": [],
   "source": [
    "columnName = 'purpose'\n",
    "title1 = 'Loan Amount Distribution Based on \"Purpose\" of Loan, for ChargedOff Subscriber'\n",
    "title2 = 'Loan Amount Distribution Based on \"Purpose\" of Loan, for Fully Paid Subscriber'\n",
    "pltCategorical(columnName, title1, title2)"
   ]
  },
  {
   "cell_type": "markdown",
   "metadata": {},
   "source": [
    "# Data Cleanup for purpose"
   ]
  },
  {
   "cell_type": "markdown",
   "metadata": {},
   "source": [
    "# Insights for purpose"
   ]
  },
  {
   "cell_type": "markdown",
   "metadata": {},
   "source": [
    "* Major purpose of the loan (amount wise) for the defaulters are \"Debt Consolidation\", \"Credit_card\" and \"Small Business\" For ChargedOff Susbcriber\n",
    "* For FullPaid Subscriber, 3rd most loan amount category is \"Home Improvement\""
   ]
  },
  {
   "cell_type": "markdown",
   "metadata": {},
   "source": [
    "# Data Analysis for title"
   ]
  },
  {
   "cell_type": "markdown",
   "metadata": {},
   "source": [
    "# Data Cleanup for title"
   ]
  },
  {
   "cell_type": "markdown",
   "metadata": {},
   "source": [
    "# Insights for title"
   ]
  },
  {
   "cell_type": "markdown",
   "metadata": {},
   "source": [
    "# Data Analysis for zip_code"
   ]
  },
  {
   "cell_type": "markdown",
   "metadata": {},
   "source": [
    "# Data Cleanup for zip_code"
   ]
  },
  {
   "cell_type": "markdown",
   "metadata": {},
   "source": [
    "# Insights for zip_code"
   ]
  },
  {
   "cell_type": "markdown",
   "metadata": {},
   "source": [
    "# Data Analysis for addr_state"
   ]
  },
  {
   "cell_type": "code",
   "execution_count": null,
   "metadata": {},
   "outputs": [],
   "source": [
    "df1_addr_state = lending_club_ChargedOff.pivot_table(values='policy_code', index='addr_state', aggfunc='count').sort_values(by='policy_code', ascending=False)\n",
    "df1_addr_state.plot(kind='bar', stacked=True, figsize=(20, 8), fontsize=15)"
   ]
  },
  {
   "cell_type": "code",
   "execution_count": null,
   "metadata": {},
   "outputs": [],
   "source": [
    "df1_addr_state = df1_addr_state.reset_index()\n",
    "plt.figure(figsize=(15,5))\n",
    "plt.plot(df1_addr_state.addr_state, df1_addr_state.policy_code, 'o-')\n",
    "plt.show()"
   ]
  },
  {
   "cell_type": "code",
   "execution_count": null,
   "metadata": {},
   "outputs": [],
   "source": [
    "columnName = 'addr_state'\n",
    "title1 = 'Loan Amount Distribution Based on \"addr_state\" of Loan, for ChargedOff Subscriber'\n",
    "title2 = 'Loan Amount Distribution Based on \"addr_state\" of Loan, for Fully Paid Subscriber'\n",
    "pltCategorical(columnName, title1, title2)"
   ]
  },
  {
   "cell_type": "markdown",
   "metadata": {},
   "source": [
    "# Data Cleanup for addr_state"
   ]
  },
  {
   "cell_type": "markdown",
   "metadata": {},
   "source": [
    "# Insights for addr_state"
   ]
  },
  {
   "cell_type": "markdown",
   "metadata": {},
   "source": [
    "* Top States based on Loan_amount is different based on Loan_status\n",
    "* Overal Top3 Categories are:\n",
    "    * CA\n",
    "    * FL\n",
    "    * NY\n",
    "* Fully Paid Category top3 are:\n",
    "    * CA\n",
    "    * NY\n",
    "    * TX\n",
    "* Charged Off Categories Top3 Are:\n",
    "    * CA\n",
    "    * NY\n",
    "    * FL\n"
   ]
  },
  {
   "cell_type": "markdown",
   "metadata": {},
   "source": [
    "# Data Analysis for dti"
   ]
  },
  {
   "cell_type": "code",
   "execution_count": null,
   "metadata": {},
   "outputs": [],
   "source": [
    "do_analysis(lending_club, 'dti')"
   ]
  },
  {
   "cell_type": "markdown",
   "metadata": {},
   "source": [
    "# Data Cleanup for dti"
   ]
  },
  {
   "cell_type": "markdown",
   "metadata": {},
   "source": [
    "### Since there are no null values, and no outliers for dti, there is no need to do a datacleanup"
   ]
  },
  {
   "cell_type": "markdown",
   "metadata": {},
   "source": [
    "# Insights for dti"
   ]
  },
  {
   "cell_type": "markdown",
   "metadata": {},
   "source": [
    "## Insight: The dti for charged off loans is higher than the fully paid loans"
   ]
  },
  {
   "cell_type": "markdown",
   "metadata": {},
   "source": [
    "# Data Analysis for delinq_2yrs"
   ]
  },
  {
   "cell_type": "markdown",
   "metadata": {},
   "source": [
    "# Data Cleanup for delinq_2yrs"
   ]
  },
  {
   "cell_type": "markdown",
   "metadata": {},
   "source": [
    "# Insights for delinq_2yrs"
   ]
  },
  {
   "cell_type": "markdown",
   "metadata": {},
   "source": [
    "# Data Analysis for earliest_cr_line"
   ]
  },
  {
   "cell_type": "code",
   "execution_count": null,
   "metadata": {},
   "outputs": [],
   "source": [
    "lending_club['earliest_cr_line']\n",
    "lending_club['earliestcrline_month']=lending_club['earliest_cr_line'].apply(lambda x:x.split('-')[0])\n",
    "lending_club['earliestcrline_year']=lending_club['earliest_cr_line'].apply(lambda x:x.split('-')[1])\n",
    "lending_club['earliestcrline_year'].apply(pd.to_numeric)"
   ]
  },
  {
   "cell_type": "code",
   "execution_count": null,
   "metadata": {},
   "outputs": [],
   "source": [
    "do_analysis_categorical(lending_club, 'earliestcrline_year')\n"
   ]
  },
  {
   "cell_type": "markdown",
   "metadata": {},
   "source": [
    "# Data Cleanup for earliest_cr_line"
   ]
  },
  {
   "cell_type": "markdown",
   "metadata": {},
   "source": [
    "Since there are no null values no cleanup is needed."
   ]
  },
  {
   "cell_type": "markdown",
   "metadata": {},
   "source": [
    "#### Insights for earliest_cr_line¶"
   ]
  },
  {
   "cell_type": "markdown",
   "metadata": {},
   "source": [
    "Business for banks increased in terms of number of loans, can be predicted to increase in coming years in similar format.\n"
   ]
  },
  {
   "cell_type": "markdown",
   "metadata": {},
   "source": [
    "# Data Analysis for inq_last_6mths"
   ]
  },
  {
   "cell_type": "code",
   "execution_count": null,
   "metadata": {},
   "outputs": [],
   "source": [
    "df1_inq_last_6mths = lending_club_ChargedOff.pivot_table(values='policy_code', index='inq_last_6mths', aggfunc='count').reset_index()\n",
    "plt.figure(figsize=(15,5))\n",
    "plt.plot(df1_inq_last_6mths.inq_last_6mths, df1_inq_last_6mths.policy_code, '-o')\n",
    "plt.show()"
   ]
  },
  {
   "cell_type": "markdown",
   "metadata": {},
   "source": [
    "# Data Cleanup for inq_last_6mths"
   ]
  },
  {
   "cell_type": "markdown",
   "metadata": {},
   "source": [
    "# Insights for inq_last_6mths"
   ]
  },
  {
   "cell_type": "markdown",
   "metadata": {},
   "source": [
    "* Number of Inquary Count is more from (0 to 4) in last 6 months period"
   ]
  },
  {
   "cell_type": "markdown",
   "metadata": {},
   "source": [
    "# Data Analysis for mths_since_last_delinq"
   ]
  },
  {
   "cell_type": "code",
   "execution_count": null,
   "metadata": {},
   "outputs": [],
   "source": [
    "do_analysis(lending_club, 'mths_since_last_delinq')"
   ]
  },
  {
   "cell_type": "markdown",
   "metadata": {},
   "source": [
    "# Data Cleanup for mths_since_last_delinq"
   ]
  },
  {
   "cell_type": "code",
   "execution_count": null,
   "metadata": {},
   "outputs": [],
   "source": [
    "# There are 24675 null values. The null values means that the customer has been repaying the loan on time.\n",
    "# We will do this data cleanup by imputing these null values to 0.\n",
    "lending_club.loc[lending_club['mths_since_last_delinq'].isnull(),'mths_since_last_delinq'] = 0"
   ]
  },
  {
   "cell_type": "code",
   "execution_count": null,
   "metadata": {},
   "outputs": [],
   "source": [
    "# Analysis of mths_since_last_delinq excluding the 0 values.\n",
    "lending_club.loc[lending_club['mths_since_last_delinq'] != 0]['mths_since_last_delinq'].plot(kind='hist', bins=50)"
   ]
  },
  {
   "cell_type": "code",
   "execution_count": null,
   "metadata": {},
   "outputs": [],
   "source": [
    "lending_club.loc[lending_club['mths_since_last_delinq'] != 0][['mths_since_last_delinq', 'loan_status']].boxplot(by='loan_status') "
   ]
  },
  {
   "cell_type": "markdown",
   "metadata": {},
   "source": [
    "# Insights for mths_since_last_delinq"
   ]
  },
  {
   "cell_type": "markdown",
   "metadata": {},
   "source": [
    "### Charged off loans have a higher months since last delinquient"
   ]
  },
  {
   "cell_type": "markdown",
   "metadata": {},
   "source": [
    "# Data Analysis for mths_since_last_record"
   ]
  },
  {
   "cell_type": "markdown",
   "metadata": {},
   "source": [
    "# Data Cleanup for mths_since_last_record"
   ]
  },
  {
   "cell_type": "markdown",
   "metadata": {},
   "source": [
    "# Insights for mths_since_last_record"
   ]
  },
  {
   "cell_type": "markdown",
   "metadata": {},
   "source": [
    "# Data Analysis for open_acc"
   ]
  },
  {
   "cell_type": "code",
   "execution_count": null,
   "metadata": {},
   "outputs": [],
   "source": [
    "#do_analysis(lending_club, 'open_acc')\n",
    "lending_club['open_acc'].plot(kind='hist')"
   ]
  },
  {
   "cell_type": "code",
   "execution_count": null,
   "metadata": {},
   "outputs": [],
   "source": []
  },
  {
   "cell_type": "code",
   "execution_count": null,
   "metadata": {},
   "outputs": [],
   "source": [
    "#DERIVED \n",
    "\n",
    "lending_club['Ratio_Open_Total_acc']=(lending_club['open_acc']/lending_club['total_acc'])*100\n",
    "#lending_club['Ration_Open_Total_acc']\n",
    "do_analysis(lending_club, 'Ratio_Open_Total_acc')"
   ]
  },
  {
   "cell_type": "markdown",
   "metadata": {},
   "source": [
    "# Data Cleanup for open_acc"
   ]
  },
  {
   "cell_type": "markdown",
   "metadata": {},
   "source": [
    "No Data Clean up done."
   ]
  },
  {
   "cell_type": "markdown",
   "metadata": {},
   "source": [
    "# Insights for open_acc"
   ]
  },
  {
   "cell_type": "markdown",
   "metadata": {},
   "source": [
    "There are profiles with as 10 open accounts is the highest.\n",
    "There are outliers with more than 20 open accounts .\n",
    "Out of 3000 profiles  around 800 have the open_acc/total_acc ratio as 100% ie all loans are either Current/ChargedOff\n",
    "These profiles should never be considered for next loan request,Also need to check for 75% and above cases."
   ]
  },
  {
   "cell_type": "markdown",
   "metadata": {},
   "source": [
    "# Data Analysis for pub_rec"
   ]
  },
  {
   "cell_type": "code",
   "execution_count": null,
   "metadata": {},
   "outputs": [],
   "source": [
    "#lending_club_master.pivot_table(values='policy_code', index='pub_rec', aggfunc='count', columns=['loan_status']).plot(kind='bar', stacked=True, figsize=(20, 8), fontsize=15)\n",
    "pltUniVariableAnalysis('pub_rec', lending_club_master)"
   ]
  },
  {
   "cell_type": "code",
   "execution_count": null,
   "metadata": {},
   "outputs": [],
   "source": [
    "pltUniVariableAnalysis('pub_rec', lending_club_ChargedOff)"
   ]
  },
  {
   "cell_type": "markdown",
   "metadata": {},
   "source": [
    "# Data Cleanup for pub_rec"
   ]
  },
  {
   "cell_type": "markdown",
   "metadata": {},
   "source": [
    "# Insights for pub_rec"
   ]
  },
  {
   "cell_type": "markdown",
   "metadata": {},
   "source": [
    "* Most of the applicant attitude was fine. Maximum are under 0 complain section. Defaulters are only in the category of no complain or 1 complain zone."
   ]
  },
  {
   "cell_type": "markdown",
   "metadata": {},
   "source": [
    "# Data Analysis for revol_bal"
   ]
  },
  {
   "cell_type": "code",
   "execution_count": null,
   "metadata": {},
   "outputs": [],
   "source": [
    "do_analysis(lending_club, 'revol_bal')"
   ]
  },
  {
   "cell_type": "markdown",
   "metadata": {},
   "source": [
    "# Data Cleanup for revol_bal"
   ]
  },
  {
   "cell_type": "code",
   "execution_count": null,
   "metadata": {},
   "outputs": [],
   "source": [
    "# 90% of the revol_bal values are under 28, 541 dollars. The max loan amount is around 35, 000 dollars.\n",
    "# It is likely that the values above 80, 000 are outliers, and we can remove them.\n",
    "# Lets look at the percentage of rows where revol_bal is above 80,000\n",
    "lending_club.loc[lending_club['revol_bal'] > 80000].shape[0] * 100 / lending_club.shape[0]"
   ]
  },
  {
   "cell_type": "code",
   "execution_count": null,
   "metadata": {},
   "outputs": [],
   "source": [
    "# To decide if we can drop these rows we will see if there is a major correlation between\n",
    "# revol_bal and charged off for values over 60,000\n",
    "lending_club.loc[lending_club['revol_bal'] > 80000][['revol_bal', 'loan_status']].boxplot(by='loan_status')"
   ]
  },
  {
   "cell_type": "code",
   "execution_count": null,
   "metadata": {},
   "outputs": [],
   "source": [
    "# Since there is a visible corelation between revolving balance and loan status, we cannot remove the values above 80,000\n",
    "# The values above 80, 000 seem to be valid values."
   ]
  },
  {
   "cell_type": "code",
   "execution_count": null,
   "metadata": {},
   "outputs": [],
   "source": [
    "lending_club[['revol_bal', 'loan_status']].groupby('loan_status').quantile([0.5])"
   ]
  },
  {
   "cell_type": "markdown",
   "metadata": {},
   "source": [
    "# Insights for revol_bal"
   ]
  },
  {
   "cell_type": "markdown",
   "metadata": {},
   "source": [
    "### The median revolving balance for charged off loans is 6.3% higher than the fully paid loans."
   ]
  },
  {
   "cell_type": "code",
   "execution_count": null,
   "metadata": {},
   "outputs": [],
   "source": [
    "# Is revol_bal and revol_util corelated. They are not highly corelated.\n",
    "lending_club[['revol_bal','revol_util']].corr()"
   ]
  },
  {
   "cell_type": "markdown",
   "metadata": {},
   "source": [
    "# Data Analysis for revol_util"
   ]
  },
  {
   "cell_type": "markdown",
   "metadata": {},
   "source": [
    "# Data Cleanup for revol_util"
   ]
  },
  {
   "cell_type": "markdown",
   "metadata": {},
   "source": [
    "# Insights for revol_util"
   ]
  },
  {
   "cell_type": "markdown",
   "metadata": {},
   "source": [
    "# Data Analysis for total_acc"
   ]
  },
  {
   "cell_type": "code",
   "execution_count": null,
   "metadata": {},
   "outputs": [],
   "source": [
    "lending_club['total_acc']\n",
    "do_analysis(lending_club, 'total_acc')"
   ]
  },
  {
   "cell_type": "markdown",
   "metadata": {},
   "source": [
    "# Data Cleanup for total_acc"
   ]
  },
  {
   "cell_type": "markdown",
   "metadata": {},
   "source": [
    "no data clean up done as no null values or incorrect values"
   ]
  },
  {
   "cell_type": "markdown",
   "metadata": {},
   "source": [
    "# Insights for total_acc"
   ]
  },
  {
   "cell_type": "markdown",
   "metadata": {},
   "source": [
    "There are around 2800 profiles with total accounts around 18\n",
    "All profiles with charged off/current/Fully paid status have 20 total accounts on an average\n"
   ]
  },
  {
   "cell_type": "markdown",
   "metadata": {},
   "source": [
    "# Data Analysis for out_prncp"
   ]
  },
  {
   "cell_type": "markdown",
   "metadata": {},
   "source": [
    "# Data Cleanup for out_prncp"
   ]
  },
  {
   "cell_type": "markdown",
   "metadata": {},
   "source": [
    "# Insights for out_prncp"
   ]
  },
  {
   "cell_type": "markdown",
   "metadata": {},
   "source": [
    "# Data Analysis for out_prncp_inv"
   ]
  },
  {
   "cell_type": "code",
   "execution_count": null,
   "metadata": {},
   "outputs": [],
   "source": [
    "lending_club['out_prncp_inv'].value_counts()\n",
    "do_analysis(lending_club,'out_prncp_inv')"
   ]
  },
  {
   "cell_type": "markdown",
   "metadata": {},
   "source": [
    "# Data Cleanup for out_prncp_inv"
   ]
  },
  {
   "cell_type": "code",
   "execution_count": null,
   "metadata": {},
   "outputs": [],
   "source": [
    "#since most of the outstanding prnc is 0 need to filter out to get better insights\n",
    "lending_club_temp=lending_club.loc[lending_club['out_prncp_inv'] > 0]\n",
    "#lending_club_temp['out_prncp_inv']\n",
    "#do_analysis(lending_club_temp,'out_prncp_inv')"
   ]
  },
  {
   "cell_type": "markdown",
   "metadata": {},
   "source": [
    "# Insights for out_prncp_inv"
   ]
  },
  {
   "cell_type": "markdown",
   "metadata": {},
   "source": [
    "Most of the profiles have dollars 600 as the outstanding_prncp_inv while the next peak is at  dollars 1200 .\n",
    "Highest outstanding prncipal is around dollars 6300\n"
   ]
  },
  {
   "cell_type": "markdown",
   "metadata": {},
   "source": [
    "# Data Analysis for total_pymnt"
   ]
  },
  {
   "cell_type": "code",
   "execution_count": null,
   "metadata": {},
   "outputs": [],
   "source": [
    "print(\"Total Number of Records: \", lending_club_master['total_pymnt'].shape[0])\n",
    "print(\"Total Unique Counts of the Records: \", len(lending_club_master['total_pymnt'].unique()))\n",
    "do_analysis(lending_club, 'total_pymnt')"
   ]
  },
  {
   "cell_type": "code",
   "execution_count": null,
   "metadata": {},
   "outputs": [],
   "source": [
    "def splitTotalPayment(x):\n",
    "    if x <= 5000:\n",
    "        return \"Low\"\n",
    "    elif x <= 15000:\n",
    "        return \"Medium\"\n",
    "    else:\n",
    "        return \"High\"\n",
    "lending_club_master['Temp_Total_Payment'] = lending_club_master['total_pymnt'].apply(splitTotalPayment)\n",
    "pltUniVariableAnalysis('Temp_Total_Payment', lending_club_master)\n",
    "lending_club_master.drop(columns='Temp_Total_Payment', inplace=True)"
   ]
  },
  {
   "cell_type": "markdown",
   "metadata": {},
   "source": [
    "# Data Cleanup for total_pymnt"
   ]
  },
  {
   "cell_type": "markdown",
   "metadata": {},
   "source": [
    "# Insights for total_pymnt"
   ]
  },
  {
   "cell_type": "markdown",
   "metadata": {},
   "source": [
    "* Maximum total_payment within the Range of 5K to 15K\n",
    "* Average Total Payment is more for Fully Paid Subscriber than ChargedOff Susbcriber."
   ]
  },
  {
   "cell_type": "markdown",
   "metadata": {},
   "source": [
    "# Data Analysis for total_pymnt_inv"
   ]
  },
  {
   "cell_type": "markdown",
   "metadata": {},
   "source": [
    "# Data Cleanup for total_pymnt_inv"
   ]
  },
  {
   "cell_type": "markdown",
   "metadata": {},
   "source": [
    "# Insights for total_pymnt_inv"
   ]
  },
  {
   "cell_type": "markdown",
   "metadata": {},
   "source": [
    "# Data Analysis for total_rec_prncp"
   ]
  },
  {
   "cell_type": "markdown",
   "metadata": {},
   "source": [
    "# Data Cleanup for total_rec_prncp"
   ]
  },
  {
   "cell_type": "markdown",
   "metadata": {},
   "source": [
    "# Insights for total_rec_prncp"
   ]
  },
  {
   "cell_type": "markdown",
   "metadata": {},
   "source": [
    "# Data Analysis for total_rec_int"
   ]
  },
  {
   "cell_type": "code",
   "execution_count": null,
   "metadata": {},
   "outputs": [],
   "source": [
    "#lending_club['total_rec_int'].value_counts()\n",
    "do_analysis(lending_club,'total_rec_int')"
   ]
  },
  {
   "cell_type": "markdown",
   "metadata": {},
   "source": [
    "# Data Cleanup for total_rec_int"
   ]
  },
  {
   "cell_type": "markdown",
   "metadata": {},
   "source": [
    "Though there are outliers , removing them will not have a significant impact hence retaining them."
   ]
  },
  {
   "cell_type": "markdown",
   "metadata": {},
   "source": [
    "# Insights for total_rec_int"
   ]
  },
  {
   "cell_type": "markdown",
   "metadata": {},
   "source": [
    "High number of profiles around 6500 have paid  dollars 0.0 interest : reason has to be found and such profiles should be handled sepearately.\n",
    "There are few profiles having paid around  dollars 23000   : can checked if principal <interest recovered and waive off the loan\n",
    "    "
   ]
  },
  {
   "cell_type": "markdown",
   "metadata": {},
   "source": [
    "# Data Analysis for total_rec_late_fee"
   ]
  },
  {
   "cell_type": "code",
   "execution_count": null,
   "metadata": {},
   "outputs": [],
   "source": [
    "checkNullPerForColumns('total_rec_late_fee')\n",
    "totalChargedOffSub = lending_club_ChargedOff['total_rec_late_fee'].shape[0]\n",
    "positiveLatePayment = len(lending_club_ChargedOff[lending_club_ChargedOff['total_rec_late_fee'] > 0])\n",
    "print(\"Total Number of Subscriber Records: ==>\", totalChargedOffSub)\n",
    "print(\"Total Unique Counts of the Records: ==>\", len(lending_club_ChargedOff['total_rec_late_fee'].unique()))\n",
    "print(\"Total Number of +ve Late Payment, ChargedOff Subscriber: ==>\",positiveLatePayment)\n",
    "print(\"% of ChargedOff Subscriber Done Late Payment: ==>\",  round((positiveLatePayment/totalChargedOffSub)*100, 0))\n",
    "print(lending_club_master.groupby(['loan_status'])['total_rec_late_fee'].agg(['count', 'sum']))"
   ]
  },
  {
   "cell_type": "markdown",
   "metadata": {},
   "source": [
    "# Data Cleanup for total_rec_late_fee"
   ]
  },
  {
   "cell_type": "markdown",
   "metadata": {},
   "source": [
    "# Insights for total_rec_late_fee"
   ]
  },
  {
   "cell_type": "markdown",
   "metadata": {},
   "source": [
    "* Maximum LatePayment count is under \"FullyPaid\" Section\n",
    "* 15% of the ChargedOff Subscriber Does the Late Payment\n",
    "* Not a direct impact to the ChargedOff Subscriber, Need to use this field along with other Money Related Fields."
   ]
  },
  {
   "cell_type": "markdown",
   "metadata": {},
   "source": [
    "# Data Analysis for recoveries"
   ]
  },
  {
   "cell_type": "code",
   "execution_count": null,
   "metadata": {},
   "outputs": [],
   "source": [
    "do_analysis(lending_club, 'recoveries')"
   ]
  },
  {
   "cell_type": "code",
   "execution_count": null,
   "metadata": {},
   "outputs": [],
   "source": [
    "# Recovery is non zero for only charged off loans. So we will analyse recovery for Charged Off loans\n",
    "lending_club.loc[lending_club['recoveries'] > 0]['recoveries'].plot(kind='hist')"
   ]
  },
  {
   "cell_type": "code",
   "execution_count": null,
   "metadata": {},
   "outputs": [],
   "source": []
  },
  {
   "cell_type": "markdown",
   "metadata": {},
   "source": [
    "# Data Cleanup for recoveries"
   ]
  },
  {
   "cell_type": "code",
   "execution_count": null,
   "metadata": {},
   "outputs": [],
   "source": [
    "# There are no null values for recoveries. Therefore there is no need for data cleanup.\n",
    "# Recoveries is 0 for fully paid loans"
   ]
  },
  {
   "cell_type": "markdown",
   "metadata": {},
   "source": [
    "# Insights for recoveries"
   ]
  },
  {
   "cell_type": "code",
   "execution_count": null,
   "metadata": {},
   "outputs": [],
   "source": [
    "lending_club[['recoveries', 'loan_status']].groupby('loan_status').quantile([.5])"
   ]
  },
  {
   "cell_type": "markdown",
   "metadata": {},
   "source": [
    "### Recoveries are 0 for Fully Paid and median recovery is 172 for charged off loans\n",
    "### Since Recovery happens after the loan defaults, this cannot be an independant variable when it comes to loan status"
   ]
  },
  {
   "cell_type": "markdown",
   "metadata": {},
   "source": [
    "# Data Analysis for collection_recovery_fee"
   ]
  },
  {
   "cell_type": "markdown",
   "metadata": {},
   "source": [
    "# Data Cleanup for collection_recovery_fee"
   ]
  },
  {
   "cell_type": "markdown",
   "metadata": {},
   "source": [
    "# Insights for collection_recovery_fee"
   ]
  },
  {
   "cell_type": "markdown",
   "metadata": {},
   "source": [
    "# Data Analysis for last_pymnt_d"
   ]
  },
  {
   "cell_type": "code",
   "execution_count": null,
   "metadata": {},
   "outputs": [],
   "source": [
    "lending_club['last_pymnt_d']\n",
    "lending_club['last_pymnt_d']=lending_club['last_pymnt_d'].astype(str)\n",
    "lending_club['last_pymnt_month']=lending_club['last_pymnt_d'].apply(lambda x:x.split('-')[0])\n",
    "#lending_club['last_pymnt_year']=lending_club['last_pymnt_d'].apply(lambda x:x.split('-')[1] if x.find(\"-\") else 0)\n",
    "#lending_club['last_pymnt_year'].apply(pd.to_numeric)\n",
    "#lending_club['last_pymnt_month']\n",
    "#lending_club['last_pymnt_d']\n",
    "#lending_club['last_pymnt_year']\n",
    "#lending_club['last_pymnt_year']=lending_club['last_pymnt_d'].apply(lambda x:x.split('-')[1])\n"
   ]
  },
  {
   "cell_type": "markdown",
   "metadata": {},
   "source": [
    "# Data Cleanup for last_pymnt_d"
   ]
  },
  {
   "cell_type": "markdown",
   "metadata": {},
   "source": [
    "# Insights for last_pymnt_d"
   ]
  },
  {
   "cell_type": "markdown",
   "metadata": {},
   "source": [
    "# Data Analysis for last_pymnt_amnt"
   ]
  },
  {
   "cell_type": "code",
   "execution_count": null,
   "metadata": {},
   "outputs": [],
   "source": [
    "checkNullPerForColumns('last_pymnt_amnt')\n",
    "totalChargedOffSub = lending_club_ChargedOff['last_pymnt_amnt'].shape[0]\n",
    "positiveLastPaymnt = len(lending_club_ChargedOff[lending_club_ChargedOff['last_pymnt_amnt'] > 0])\n",
    "print(\"Total Number of Subscriber Records: ==>\", totalChargedOffSub)\n",
    "print(\"Total Unique Counts of the Records: ==>\", len(lending_club_ChargedOff['last_pymnt_amnt'].unique()))\n",
    "print(\"Total Number of +ve Late Payment, ChargedOff Subscriber: ==>\",positiveLastPaymnt)\n",
    "\n",
    "do_analysis(lending_club_ChargedOff, 'last_pymnt_amnt')"
   ]
  },
  {
   "cell_type": "code",
   "execution_count": null,
   "metadata": {},
   "outputs": [],
   "source": [
    "def splitLatePayment(x):\n",
    "    if x <= 5000:\n",
    "        return \"Low\"\n",
    "    elif x <= 15000:\n",
    "        return \"Medium\"\n",
    "    else:\n",
    "        return \"High\"\n",
    "lending_club_master['Temp_Total_Payment'] = lending_club_master['total_pymnt'].apply(splitTotalPayment)\n",
    "pltUniVariableAnalysis('Temp_Total_Payment', lending_club_master)\n",
    "lending_club_master.drop(columns='Temp_Total_Payment', inplace=True)"
   ]
  },
  {
   "cell_type": "markdown",
   "metadata": {},
   "source": [
    "# Data Cleanup for last_pymnt_amnt"
   ]
  },
  {
   "cell_type": "markdown",
   "metadata": {},
   "source": [
    "# Insights for last_pymnt_amnt"
   ]
  },
  {
   "cell_type": "markdown",
   "metadata": {},
   "source": [
    "# Data Analysis for next_pymnt_d"
   ]
  },
  {
   "cell_type": "markdown",
   "metadata": {},
   "source": [
    "# Data Cleanup for next_pymnt_d"
   ]
  },
  {
   "cell_type": "markdown",
   "metadata": {},
   "source": [
    "# Insights for next_pymnt_d"
   ]
  },
  {
   "cell_type": "markdown",
   "metadata": {},
   "source": [
    "# Data Analysis for last_credit_pull_d"
   ]
  },
  {
   "cell_type": "markdown",
   "metadata": {},
   "source": [
    "# Data Cleanup for last_credit_pull_d"
   ]
  },
  {
   "cell_type": "markdown",
   "metadata": {},
   "source": [
    "# Insights for last_credit_pull_d"
   ]
  },
  {
   "cell_type": "markdown",
   "metadata": {},
   "source": [
    "# Data Analysis for collections_12_mths_ex_med"
   ]
  },
  {
   "cell_type": "code",
   "execution_count": null,
   "metadata": {},
   "outputs": [],
   "source": [
    "lending_club=lending_club[lending_club.collections_12_mths_ex_med.notnull()]\n",
    "lending_club['collections_12_mths_ex_med'].isnull().sum()"
   ]
  },
  {
   "cell_type": "code",
   "execution_count": null,
   "metadata": {},
   "outputs": [],
   "source": [
    "do_analysis_categorical(lending_club,'collections_12_mths_ex_med')\n",
    "#lending_club['collections_12_mths_ex_med']"
   ]
  },
  {
   "cell_type": "markdown",
   "metadata": {},
   "source": [
    "# ----------------- SECTION 2 ------------------------\n",
    "# ----------------- DERIVED COLUMNS -------------"
   ]
  },
  {
   "cell_type": "markdown",
   "metadata": {},
   "source": [
    "## 1) Income Level"
   ]
  },
  {
   "cell_type": "code",
   "execution_count": null,
   "metadata": {},
   "outputs": [],
   "source": [
    "# Creating a function to segment customers based on their income levels\n",
    "# LOW is less than 30, 000, MID is between 30,000 and 90, 000, HIGH is above 90, 000\n",
    "\n",
    "def get_income_segment(income):\n",
    "    if(income < 30000):\n",
    "        return 'LOW'\n",
    "    if((income >= 30000) & (income < 90000)):\n",
    "        return 'MID'\n",
    "    if(income >= 90000):\n",
    "        return 'HIGH'"
   ]
  },
  {
   "cell_type": "code",
   "execution_count": null,
   "metadata": {},
   "outputs": [],
   "source": [
    "#Segment the customers by income level\n",
    "lending_club['income_level'] = lending_club.apply(lambda row : get_income_segment(row['annual_inc']), axis=1)"
   ]
  },
  {
   "cell_type": "code",
   "execution_count": null,
   "metadata": {},
   "outputs": [],
   "source": [
    "# Segmented Univariate Analysis\n",
    "pd.pivot_table(lending_club, values = 'policy_code', index = ['income_level'], columns = ['loan_status'], aggfunc = np.sum)"
   ]
  },
  {
   "cell_type": "code",
   "execution_count": null,
   "metadata": {},
   "outputs": [],
   "source": [
    "# Segmented Univariate Analysis\n",
    "pd.pivot_table(lending_club, values = 'policy_code', index = ['loan_status'], columns = ['income_level'], aggfunc = np.sum).plot(kind='pie', subplots=True, figsize=(24, 8))"
   ]
  },
  {
   "cell_type": "code",
   "execution_count": null,
   "metadata": {},
   "outputs": [],
   "source": [
    "# Segmented Univariate Analysis. todo create barcharts so that all bars are of same height\n",
    "pd.pivot_table(lending_club, values = 'policy_code', index = ['income_level'], columns = ['loan_status'], aggfunc = np.sum).plot(kind='bar', stacked=True, figsize=(24, 8))"
   ]
  },
  {
   "cell_type": "markdown",
   "metadata": {},
   "source": [
    "## INSIGHT : This pivot table gives the percentage of charged off (defaults) in each income segment.\n",
    "10% : HIGH Income segment have 841/(6808 + 218 + 841) <br/>\n",
    "14% : MID Income Segment have 4043 / (4043 + 789 + 22758)<br/>\n",
    "18% : LOW Income Segment has 700 / (700 + 56 + 3043)<br/>\n",
    "\n",
    "### This shows that the Loan default increases in the lower income segment."
   ]
  },
  {
   "cell_type": "markdown",
   "metadata": {},
   "source": [
    "### What is the distribution of loan amount in the lower income segment when customer defaults"
   ]
  },
  {
   "cell_type": "code",
   "execution_count": null,
   "metadata": {},
   "outputs": [],
   "source": [
    "lending_club.loc[(lending_club['income_level'] == 'LOW') & (lending_club['loan_status'] == 'Charged Off')]['loan_amnt'].plot(kind='hist', bins=50)"
   ]
  },
  {
   "cell_type": "markdown",
   "metadata": {},
   "source": [
    "## 2) Loan Amount Funded Amount difference"
   ]
  },
  {
   "cell_type": "code",
   "execution_count": null,
   "metadata": {},
   "outputs": [],
   "source": [
    "# I also want to analyse if the people who ask more, but get less. \n",
    "# Is there is corelation between this difference and chargeoff\n",
    "\n",
    "lending_club['asking_lending_difference'] = lending_club['loan_amnt'] - lending_club['funded_amnt']"
   ]
  },
  {
   "cell_type": "code",
   "execution_count": null,
   "metadata": {},
   "outputs": [],
   "source": [
    "do_analysis(lending_club, 'asking_lending_difference')"
   ]
  },
  {
   "cell_type": "code",
   "execution_count": null,
   "metadata": {},
   "outputs": [],
   "source": [
    "# Where asking_lending_difference is greater than 0\n",
    "lending_club[['asking_lending_difference', 'loan_status']].loc[lending_club['asking_lending_difference'] > 0].boxplot(by='loan_status')"
   ]
  },
  {
   "cell_type": "markdown",
   "metadata": {},
   "source": [
    "# Insight\n",
    "The charged off loans had asked for a higher amount but got lower loan amount."
   ]
  },
  {
   "cell_type": "code",
   "execution_count": null,
   "metadata": {},
   "outputs": [],
   "source": [
    "run_t_test(lending_club, 'asking_lending_difference')"
   ]
  },
  {
   "cell_type": "markdown",
   "metadata": {},
   "source": [
    "# ----------- SECTION 3 ------------\n",
    "# ----------- Bi Variate Analysis ------------"
   ]
  },
  {
   "cell_type": "markdown",
   "metadata": {},
   "source": [
    "## 1) Multivariate analysis using a dendrogram"
   ]
  },
  {
   "cell_type": "code",
   "execution_count": null,
   "metadata": {},
   "outputs": [],
   "source": [
    "corr = lending_club[['loan_amnt', 'funded_amnt', 'funded_amnt_inv', 'installment', \n",
    "                     'total_pymnt', 'total_pymnt_inv', 'total_rec_prncp',\n",
    "                    'total_rec_int', 'annual_inc', 'revol_bal','last_pymnt_amnt',\n",
    "                     'total_rec_late_fee', 'recoveries', 'collection_recovery_fee','dti']].corr()"
   ]
  },
  {
   "cell_type": "code",
   "execution_count": null,
   "metadata": {},
   "outputs": [],
   "source": [
    "fig, ax = plt.subplots(figsize=(15,15))\n",
    "ax.matshow(corr, cmap=cm.get_cmap('coolwarm'), vmin=0, vmax=1)\n",
    "plt.xticks(range(len(corr.columns)), corr.columns, rotation='vertical', fontsize=8);\n",
    "plt.yticks(range(len(corr.columns)), corr.columns, fontsize=8);\n"
   ]
  },
  {
   "cell_type": "code",
   "execution_count": null,
   "metadata": {},
   "outputs": [],
   "source": [
    "Z = linkage(corr, 'average')"
   ]
  },
  {
   "cell_type": "code",
   "execution_count": null,
   "metadata": {},
   "outputs": [],
   "source": [
    "plt.figure(figsize=(25, 10))\n",
    "labelsize=20\n",
    "ticksize=15\n",
    "plt.title('Hierarchical Clustering Dendrogram for loan variables', fontsize=labelsize)\n",
    "plt.xlabel('variable', fontsize=labelsize)\n",
    "plt.ylabel('distance', fontsize=labelsize)\n",
    "dendrogram(\n",
    "    Z,\n",
    "    leaf_rotation=90.,  # rotates the x axis labels\n",
    "    leaf_font_size=8.,  # font size for the x axis labels\n",
    "    labels = corr.columns\n",
    ")\n",
    "pylab.yticks(fontsize=ticksize)\n",
    "pylab.xticks(rotation=-90, fontsize=ticksize)\n",
    "#plt.savefig('img/dendogram_'+index+'.png')\n",
    "plt.show()"
   ]
  },
  {
   "cell_type": "code",
   "execution_count": null,
   "metadata": {},
   "outputs": [],
   "source": [
    "\n",
    "fig, ax = plt.subplots(figsize=(17,17))\n",
    "\n",
    "colours = {'Fully Paid':'green', 'Charged Off':'red', 'Current':'blue'}\n",
    "ax.scatter(lending_club['loan_amnt'], lending_club['annual_inc'], c=lending_club['loan_status'].apply(lambda x: colours[x]), alpha=0.5)"
   ]
  },
  {
   "cell_type": "markdown",
   "metadata": {},
   "source": [
    "## Insight\n",
    "Plot to see if there is a co-relation between the loan amount and annual income, and see if there are any clusters <br>\n",
    " of defaults. We see that the loan amount is co-related to annual income, however there is no pattern or clusters of <br>\n",
    "defaults <br>\n",
    "At lower income levels - below 10000 USD and higher loan amounts - above 15, 000 USD, there seems to be a concentration of defaults."
   ]
  },
  {
   "cell_type": "markdown",
   "metadata": {},
   "source": [
    "# Sub Section - Hrudaya"
   ]
  },
  {
   "cell_type": "markdown",
   "metadata": {},
   "source": [
    "### Analyse ```Grade, SubGrade, Interest Rate``` with Respect to Other Columns (BiVariate)"
   ]
  },
  {
   "cell_type": "code",
   "execution_count": null,
   "metadata": {},
   "outputs": [],
   "source": [
    "#Grade, Sub-Grade to Loan Percentage, As per the Graph, Upper Grade is Having Higher Interest Rate\n",
    "lending_club.groupby(['grade', 'sub_grade'])['int_rate'].agg(['mean']).sort_values(by='mean').plot(kind='bar', figsize=(18,7))"
   ]
  },
  {
   "cell_type": "markdown",
   "metadata": {},
   "source": [
    "#### Derived Columns (Grade_SubGragde, LateFeePrecent)"
   ]
  },
  {
   "cell_type": "code",
   "execution_count": null,
   "metadata": {},
   "outputs": [],
   "source": [
    "#Create a Single Column by Merging grade and subgrade\n",
    "lending_club['grade_subgrade'] = lending_club['grade'] + \"_\" + lending_club['sub_grade']\n",
    "lending_club['grade_subgrade'].nunique()"
   ]
  },
  {
   "cell_type": "code",
   "execution_count": null,
   "metadata": {},
   "outputs": [],
   "source": [
    "#Create a Derive Column for the LateFeePercent With Respect to TotalPayment\n",
    "lending_club['lateFeePrecent'] = round((lending_club['total_rec_late_fee']/lending_club['total_pymnt'])*100,2)"
   ]
  },
  {
   "cell_type": "code",
   "execution_count": null,
   "metadata": {},
   "outputs": [],
   "source": [
    "X1 = lending_club.groupby('loan_status'). lateFeePrecent.agg(['mean']).reset_index()\n",
    "plt.figure(figsize=(8,8))\n",
    "sns.barplot(x = 'loan_status', y='mean', data = X1)\n",
    "plt.xlabel('Loan Status', fontsize = 12)\n",
    "plt.ylabel('Late Fee Perecent', fontsize = 12)\n",
    "plt.show()"
   ]
  },
  {
   "cell_type": "markdown",
   "metadata": {},
   "source": [
    "## `Insight`\n",
    "* Late Fee Percentage is Higer for ChargedOff Subscriber than FullyPaid Subcriber"
   ]
  },
  {
   "cell_type": "code",
   "execution_count": null,
   "metadata": {},
   "outputs": [],
   "source": [
    "#Get Average Interest Rate Based on grade and Subgrade\n",
    "group_subgroup_intRate = pd.DataFrame(lending_club.groupby('grade_subgrade').int_rate.agg(['mean']).reset_index())\n",
    "#Merge the new Column AvgIntRate to the main Frame Based on grade-subgrade\n",
    "lending_club = pd.merge(lending_club,group_subgroup_intRate, how = 'inner', on = ['grade_subgrade']).rename(columns = {'mean':'avgIntRate'})"
   ]
  },
  {
   "cell_type": "code",
   "execution_count": null,
   "metadata": {},
   "outputs": [],
   "source": [
    "plt.figure(figsize=(8,8))\n",
    "sns.boxplot('loan_status', 'avgIntRate', data = lending_club)\n",
    "plt.xlabel('Loan Status', fontsize = 12)\n",
    "plt.ylabel('Average Interest Rate', fontsize = 12)\n",
    "plt.show()"
   ]
  },
  {
   "cell_type": "markdown",
   "metadata": {},
   "source": [
    "## `Insight`\n",
    "* Average Ineterest Rate Based on Group/SubGroup is Higher for Charged Off Subscriber than Fully Paid Subscriber"
   ]
  },
  {
   "cell_type": "code",
   "execution_count": null,
   "metadata": {},
   "outputs": [],
   "source": [
    "   "
   ]
  },
  {
   "cell_type": "code",
   "execution_count": null,
   "metadata": {},
   "outputs": [],
   "source": [
    "#Grade impact on LateFee Precentage\n",
    "X1 = createDF_LateFeePrecent_Categories('grade')\n",
    "X1.head()"
   ]
  },
  {
   "cell_type": "code",
   "execution_count": null,
   "metadata": {},
   "outputs": [],
   "source": [
    "#Plot Grade impact on LateFee Precentage based on LoanCategory\n",
    "pltLateFeePercentOnCategies('grade',X1)"
   ]
  },
  {
   "cell_type": "markdown",
   "metadata": {},
   "source": [
    "## `Insight`\n",
    "* In following top 3 category(grade) where ChargedOff Suscriber give more latefee than Fullypaid subscriber\n",
    "    * A \n",
    "    * C \n",
    "    * B "
   ]
  },
  {
   "cell_type": "code",
   "execution_count": null,
   "metadata": {},
   "outputs": [],
   "source": [
    "#grade_subgrade impact on LateFee Precentage\n",
    "X1 = createDF_LateFeePrecent_Categories('grade_subgrade')\n",
    "X1.head()"
   ]
  },
  {
   "cell_type": "code",
   "execution_count": null,
   "metadata": {},
   "outputs": [],
   "source": [
    "#Plot grade_subgrade impact on LateFee Precentage based on LoanCategory\n",
    "pltLateFeePercentOnCategies('grade_subgrade',X1)"
   ]
  },
  {
   "cell_type": "markdown",
   "metadata": {},
   "source": [
    "## `Insight`\n",
    "* In following top 3 category(grade_subgrade) where ChargedOff Suscriber give more latefee than Fullypaid subscriber\n",
    "    * B_B2 \n",
    "    * A_A4 \n",
    "    * C_C5 "
   ]
  },
  {
   "cell_type": "markdown",
   "metadata": {},
   "source": [
    "### Analyse ```\"Home Ownership\"``` with respect to Other Columns (BiVariate)"
   ]
  },
  {
   "cell_type": "code",
   "execution_count": null,
   "metadata": {},
   "outputs": [],
   "source": [
    "#home_ownership impact on LateFee Precentage\n",
    "X1 = createDF_LateFeePrecent_Categories('home_ownership')\n",
    "X1.head()"
   ]
  },
  {
   "cell_type": "code",
   "execution_count": null,
   "metadata": {},
   "outputs": [],
   "source": [
    "#Plot home_ownership impact on LateFee Precentage based on LoanCategory\n",
    "pltLateFeePercentOnCategies('home_ownership',X1)"
   ]
  },
  {
   "cell_type": "markdown",
   "metadata": {},
   "source": [
    "#### Insight\n",
    "* In following top 3 category (Home_Ownership) where ChargedOff Suscriber give more latefee than Fullypaid subscriber\n",
    "    * Own\n",
    "    * Rent\n",
    "    * Mortgage"
   ]
  },
  {
   "cell_type": "markdown",
   "metadata": {},
   "source": [
    "### Analyse ```\"purpose\"``` with respect to Other Columns (BiVariate)"
   ]
  },
  {
   "cell_type": "code",
   "execution_count": null,
   "metadata": {},
   "outputs": [],
   "source": [
    "#purpose impact on LateFee Precentage\n",
    "X1 = createDF_LateFeePrecent_Categories('purpose')\n",
    "X1.head()"
   ]
  },
  {
   "cell_type": "code",
   "execution_count": null,
   "metadata": {},
   "outputs": [],
   "source": [
    "#Plot purpose impact on LateFee Precentage based on LoanCategory\n",
    "pltLateFeePercentOnCategies('purpose',X1)"
   ]
  },
  {
   "cell_type": "markdown",
   "metadata": {},
   "source": [
    "## `Insight`\n",
    "* In following top 3 category(Purpose) where ChargedOff Suscriber give more latefee than Fullypaid subscriber\n",
    "  * Vacation\n",
    "  * Other\n",
    "  * Medical"
   ]
  },
  {
   "cell_type": "markdown",
   "metadata": {},
   "source": [
    "### Analyse ```\"addr_state\"``` with respect to Other Columns (BiVariate)"
   ]
  },
  {
   "cell_type": "code",
   "execution_count": null,
   "metadata": {},
   "outputs": [],
   "source": [
    "#addr_state impact on LateFee Precentage\n",
    "X1 = createDF_LateFeePrecent_Categories('addr_state')\n",
    "X1.head()"
   ]
  },
  {
   "cell_type": "code",
   "execution_count": null,
   "metadata": {},
   "outputs": [],
   "source": [
    "#Plot purpose impact on LateFee Precentage based on LoanCategory\n",
    "pltLateFeePercentOnCategies('addr_state',X1)"
   ]
  },
  {
   "cell_type": "markdown",
   "metadata": {},
   "source": [
    "## `Insight`\n",
    "* In following top 3 category(addr_state) where ChargedOff Suscriber give more latefee than Fullypaid subscriber\n",
    "    * NM\n",
    "    * OK\n",
    "    * TN"
   ]
  },
  {
   "cell_type": "markdown",
   "metadata": {},
   "source": [
    "### Analyse ```\"inq_last_6mths\"``` with respect to Other Columns (BiVariate)"
   ]
  },
  {
   "cell_type": "code",
   "execution_count": null,
   "metadata": {},
   "outputs": [],
   "source": [
    "#inq_last_6mths impact on LateFee Precentage\n",
    "X1 = createDF_LateFeePrecent_Categories('inq_last_6mths')\n",
    "X1.head()"
   ]
  },
  {
   "cell_type": "code",
   "execution_count": null,
   "metadata": {},
   "outputs": [],
   "source": [
    "#Plot purpose impact on LateFee Precentage based on LoanCategory\n",
    "pltLateFeePercentOnCategies('inq_last_6mths',X1)"
   ]
  },
  {
   "cell_type": "markdown",
   "metadata": {},
   "source": [
    "## `Insight`\n",
    "* In following top 3 category(inq_last_6mths) where ChargedOff Suscriber give more latefee than Fullypaid subscriber\n",
    "     * 7 (Last 6 Month Inquary Count)\n",
    "     * 3 (Last 6 Month Inquary Count)\n",
    "     * 0 (Last 6 Month Inquary Count)"
   ]
  },
  {
   "cell_type": "markdown",
   "metadata": {},
   "source": [
    "### Analyse ```\"pub_rec\"``` with respect to Other Columns (BiVariate)"
   ]
  },
  {
   "cell_type": "code",
   "execution_count": null,
   "metadata": {},
   "outputs": [],
   "source": [
    "#pub_rec impact on LateFee Precentage\n",
    "X1 = createDF_LateFeePrecent_Categories('pub_rec')\n",
    "X1.head()"
   ]
  },
  {
   "cell_type": "code",
   "execution_count": null,
   "metadata": {},
   "outputs": [],
   "source": [
    "#Plot purpose impact on LateFee Precentage based on LoanCategory\n",
    "pltLateFeePercentOnCategies('pub_rec',X1)"
   ]
  },
  {
   "cell_type": "markdown",
   "metadata": {},
   "source": [
    "## `Insight`\n",
    "* In following top 3 category(pub_rec) where ChargedOff Suscriber give more latefee than Fullypaid subscriber\n",
    "    * 0 (Pub Rec)\n",
    "    * 1 (Pub Rec)\n",
    "    * 2 (Pub Rec)\n",
    "* Charged-Off Susbcriber information are not present mostly in pub-rec"
   ]
  },
  {
   "cell_type": "code",
   "execution_count": null,
   "metadata": {},
   "outputs": [],
   "source": []
  },
  {
   "cell_type": "markdown",
   "metadata": {},
   "source": [
    "* Based on Total Loan Amount, CA and NY are city for which Fullypaid and ChargedOff Subscribers are more"
   ]
  },
  {
   "cell_type": "markdown",
   "metadata": {},
   "source": [
    "# Sub Section - Aditya"
   ]
  },
  {
   "cell_type": "markdown",
   "metadata": {},
   "source": [
    "# Sub Section - Divya"
   ]
  },
  {
   "cell_type": "markdown",
   "metadata": {},
   "source": [
    "## Logistic Regression for Stastical Inference"
   ]
  },
  {
   "cell_type": "code",
   "execution_count": null,
   "metadata": {},
   "outputs": [],
   "source": [
    "def convert_loan_status_to_binary(loan_status):\n",
    "    if(loan_status == 'Charged Off'):\n",
    "        return 1;\n",
    "    if(loan_status == 'Fully Paid'):\n",
    "        return 0\n",
    "    \n",
    "lending_club['loan_status_binary'] = lending_club['loan_status'].apply(lambda x:convert_loan_status_to_binary(x))\n"
   ]
  },
  {
   "cell_type": "code",
   "execution_count": null,
   "metadata": {},
   "outputs": [],
   "source": [
    "lreg = smf.logit(formula ='loan_status_binary ~ annual_inc + loan_amnt +C(income_level) + dti + revol_bal + int_rate + C(verification_status) + delinq_2yrs + revol_util + pub_rec_bankruptcies + funded_amnt + C(term) + C(purpose) + open_acc', data = lending_club).fit()\n"
   ]
  },
  {
   "cell_type": "code",
   "execution_count": null,
   "metadata": {},
   "outputs": [],
   "source": [
    "print(lreg.summary())"
   ]
  },
  {
   "cell_type": "code",
   "execution_count": null,
   "metadata": {},
   "outputs": [],
   "source": [
    "print(\"odds ratios of each variable\")\n",
    "print(np.exp(lreg.params))"
   ]
  },
  {
   "cell_type": "code",
   "execution_count": null,
   "metadata": {},
   "outputs": [],
   "source": [
    "print(\"lower and upper confidence intervals\")\n",
    "print(lreg.conf_int())"
   ]
  },
  {
   "cell_type": "code",
   "execution_count": null,
   "metadata": {},
   "outputs": [],
   "source": []
  }
 ],
 "metadata": {
  "kernelspec": {
   "display_name": "Python 3",
   "language": "python",
   "name": "python3"
  },
  "language_info": {
   "codemirror_mode": {
    "name": "ipython",
    "version": 3
   },
   "file_extension": ".py",
   "mimetype": "text/x-python",
   "name": "python",
   "nbconvert_exporter": "python",
   "pygments_lexer": "ipython3",
   "version": "3.6.4"
  }
 },
 "nbformat": 4,
 "nbformat_minor": 2
}
