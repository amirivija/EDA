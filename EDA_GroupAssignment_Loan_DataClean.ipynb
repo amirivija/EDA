{
 "cells": [
  {
   "cell_type": "code",
   "execution_count": 288,
   "metadata": {},
   "outputs": [],
   "source": [
    "import pandas as pd\n",
    "import numpy as np\n",
    "import matplotlib.pyplot as plt\n",
    "import seaborn as sns\n",
    "sns.set_style(\"whitegrid\")\n",
    "import datetime"
   ]
  },
  {
   "cell_type": "markdown",
   "metadata": {},
   "source": [
    "# 1. Basic DataLoading and Filteration"
   ]
  },
  {
   "cell_type": "markdown",
   "metadata": {},
   "source": [
    "### Step: 1 ==> Read Loan.csv file"
   ]
  },
  {
   "cell_type": "code",
   "execution_count": 289,
   "metadata": {},
   "outputs": [
    {
     "name": "stderr",
     "output_type": "stream",
     "text": [
      "C:\\Users\\Ranjan\\Anaconda3\\lib\\site-packages\\IPython\\core\\interactiveshell.py:2728: DtypeWarning: Columns (47) have mixed types. Specify dtype option on import or set low_memory=False.\n",
      "  interactivity=interactivity, compiler=compiler, result=result)\n"
     ]
    }
   ],
   "source": [
    "loan_df = pd.read_csv('loan.csv')"
   ]
  },
  {
   "cell_type": "markdown",
   "metadata": {},
   "source": [
    "### Step: 2 ==> Make default datatype as string for all the columns to avoid load error"
   ]
  },
  {
   "cell_type": "code",
   "execution_count": 290,
   "metadata": {},
   "outputs": [],
   "source": [
    "loan_df['TempdataType'] = \"str\"\n",
    "customDataType = dict(zip(loan_df.columns,loan_df.TempdataType)) #Create Custom Datatype to avoid \"low_memory\" Error\n",
    "loan_df = pd.read_csv('loan.csv',dtype=customDataType) #Reload"
   ]
  },
  {
   "cell_type": "markdown",
   "metadata": {},
   "source": [
    "### Step: 3 ==> Find all the Columns with 100% NULL and create a Dictionary"
   ]
  },
  {
   "cell_type": "code",
   "execution_count": 291,
   "metadata": {},
   "outputs": [],
   "source": [
    "#Get Null% in each Column of loan dataframe\n",
    "nullColumns = pd.DataFrame(round(100*(loan_df.isnull().sum()/len(loan_df.index)), 2), columns=['null%Column'])\n",
    "#Create a Map Between Columns to Null% in DataFrame\n",
    "dictColumn2NullPercent = dict(zip(nullColumns.index,nullColumns['null%Column']))"
   ]
  },
  {
   "cell_type": "markdown",
   "metadata": {},
   "source": [
    "### Step: 4 ==> Remove all the columns from loan df having 100% Null values"
   ]
  },
  {
   "cell_type": "code",
   "execution_count": 292,
   "metadata": {},
   "outputs": [
    {
     "data": {
      "text/html": [
       "<div>\n",
       "<style scoped>\n",
       "    .dataframe tbody tr th:only-of-type {\n",
       "        vertical-align: middle;\n",
       "    }\n",
       "\n",
       "    .dataframe tbody tr th {\n",
       "        vertical-align: top;\n",
       "    }\n",
       "\n",
       "    .dataframe thead th {\n",
       "        text-align: right;\n",
       "    }\n",
       "</style>\n",
       "<table border=\"1\" class=\"dataframe\">\n",
       "  <thead>\n",
       "    <tr style=\"text-align: right;\">\n",
       "      <th></th>\n",
       "      <th>id</th>\n",
       "      <th>member_id</th>\n",
       "      <th>loan_amnt</th>\n",
       "      <th>funded_amnt</th>\n",
       "      <th>funded_amnt_inv</th>\n",
       "      <th>term</th>\n",
       "      <th>int_rate</th>\n",
       "      <th>installment</th>\n",
       "      <th>grade</th>\n",
       "      <th>sub_grade</th>\n",
       "      <th>...</th>\n",
       "      <th>next_pymnt_d</th>\n",
       "      <th>last_credit_pull_d</th>\n",
       "      <th>collections_12_mths_ex_med</th>\n",
       "      <th>policy_code</th>\n",
       "      <th>application_type</th>\n",
       "      <th>acc_now_delinq</th>\n",
       "      <th>chargeoff_within_12_mths</th>\n",
       "      <th>delinq_amnt</th>\n",
       "      <th>pub_rec_bankruptcies</th>\n",
       "      <th>tax_liens</th>\n",
       "    </tr>\n",
       "  </thead>\n",
       "  <tbody>\n",
       "    <tr>\n",
       "      <th>0</th>\n",
       "      <td>1077501</td>\n",
       "      <td>1296599</td>\n",
       "      <td>5000</td>\n",
       "      <td>5000</td>\n",
       "      <td>4975</td>\n",
       "      <td>36 months</td>\n",
       "      <td>10.65%</td>\n",
       "      <td>162.87</td>\n",
       "      <td>B</td>\n",
       "      <td>B2</td>\n",
       "      <td>...</td>\n",
       "      <td>NaN</td>\n",
       "      <td>May-16</td>\n",
       "      <td>0</td>\n",
       "      <td>1</td>\n",
       "      <td>INDIVIDUAL</td>\n",
       "      <td>0</td>\n",
       "      <td>0</td>\n",
       "      <td>0</td>\n",
       "      <td>0</td>\n",
       "      <td>0</td>\n",
       "    </tr>\n",
       "    <tr>\n",
       "      <th>1</th>\n",
       "      <td>1077430</td>\n",
       "      <td>1314167</td>\n",
       "      <td>2500</td>\n",
       "      <td>2500</td>\n",
       "      <td>2500</td>\n",
       "      <td>60 months</td>\n",
       "      <td>15.27%</td>\n",
       "      <td>59.83</td>\n",
       "      <td>C</td>\n",
       "      <td>C4</td>\n",
       "      <td>...</td>\n",
       "      <td>NaN</td>\n",
       "      <td>Sep-13</td>\n",
       "      <td>0</td>\n",
       "      <td>1</td>\n",
       "      <td>INDIVIDUAL</td>\n",
       "      <td>0</td>\n",
       "      <td>0</td>\n",
       "      <td>0</td>\n",
       "      <td>0</td>\n",
       "      <td>0</td>\n",
       "    </tr>\n",
       "    <tr>\n",
       "      <th>2</th>\n",
       "      <td>1077175</td>\n",
       "      <td>1313524</td>\n",
       "      <td>2400</td>\n",
       "      <td>2400</td>\n",
       "      <td>2400</td>\n",
       "      <td>36 months</td>\n",
       "      <td>15.96%</td>\n",
       "      <td>84.33</td>\n",
       "      <td>C</td>\n",
       "      <td>C5</td>\n",
       "      <td>...</td>\n",
       "      <td>NaN</td>\n",
       "      <td>May-16</td>\n",
       "      <td>0</td>\n",
       "      <td>1</td>\n",
       "      <td>INDIVIDUAL</td>\n",
       "      <td>0</td>\n",
       "      <td>0</td>\n",
       "      <td>0</td>\n",
       "      <td>0</td>\n",
       "      <td>0</td>\n",
       "    </tr>\n",
       "    <tr>\n",
       "      <th>3</th>\n",
       "      <td>1076863</td>\n",
       "      <td>1277178</td>\n",
       "      <td>10000</td>\n",
       "      <td>10000</td>\n",
       "      <td>10000</td>\n",
       "      <td>36 months</td>\n",
       "      <td>13.49%</td>\n",
       "      <td>339.31</td>\n",
       "      <td>C</td>\n",
       "      <td>C1</td>\n",
       "      <td>...</td>\n",
       "      <td>NaN</td>\n",
       "      <td>Apr-16</td>\n",
       "      <td>0</td>\n",
       "      <td>1</td>\n",
       "      <td>INDIVIDUAL</td>\n",
       "      <td>0</td>\n",
       "      <td>0</td>\n",
       "      <td>0</td>\n",
       "      <td>0</td>\n",
       "      <td>0</td>\n",
       "    </tr>\n",
       "    <tr>\n",
       "      <th>4</th>\n",
       "      <td>1075358</td>\n",
       "      <td>1311748</td>\n",
       "      <td>3000</td>\n",
       "      <td>3000</td>\n",
       "      <td>3000</td>\n",
       "      <td>60 months</td>\n",
       "      <td>12.69%</td>\n",
       "      <td>67.79</td>\n",
       "      <td>B</td>\n",
       "      <td>B5</td>\n",
       "      <td>...</td>\n",
       "      <td>Jun-16</td>\n",
       "      <td>May-16</td>\n",
       "      <td>0</td>\n",
       "      <td>1</td>\n",
       "      <td>INDIVIDUAL</td>\n",
       "      <td>0</td>\n",
       "      <td>0</td>\n",
       "      <td>0</td>\n",
       "      <td>0</td>\n",
       "      <td>0</td>\n",
       "    </tr>\n",
       "  </tbody>\n",
       "</table>\n",
       "<p>5 rows × 57 columns</p>\n",
       "</div>"
      ],
      "text/plain": [
       "        id member_id loan_amnt funded_amnt funded_amnt_inv        term  \\\n",
       "0  1077501   1296599      5000        5000            4975   36 months   \n",
       "1  1077430   1314167      2500        2500            2500   60 months   \n",
       "2  1077175   1313524      2400        2400            2400   36 months   \n",
       "3  1076863   1277178     10000       10000           10000   36 months   \n",
       "4  1075358   1311748      3000        3000            3000   60 months   \n",
       "\n",
       "  int_rate installment grade sub_grade    ...    next_pymnt_d  \\\n",
       "0   10.65%      162.87     B        B2    ...             NaN   \n",
       "1   15.27%       59.83     C        C4    ...             NaN   \n",
       "2   15.96%       84.33     C        C5    ...             NaN   \n",
       "3   13.49%      339.31     C        C1    ...             NaN   \n",
       "4   12.69%       67.79     B        B5    ...          Jun-16   \n",
       "\n",
       "  last_credit_pull_d collections_12_mths_ex_med policy_code application_type  \\\n",
       "0             May-16                          0           1       INDIVIDUAL   \n",
       "1             Sep-13                          0           1       INDIVIDUAL   \n",
       "2             May-16                          0           1       INDIVIDUAL   \n",
       "3             Apr-16                          0           1       INDIVIDUAL   \n",
       "4             May-16                          0           1       INDIVIDUAL   \n",
       "\n",
       "  acc_now_delinq chargeoff_within_12_mths delinq_amnt pub_rec_bankruptcies  \\\n",
       "0              0                        0           0                    0   \n",
       "1              0                        0           0                    0   \n",
       "2              0                        0           0                    0   \n",
       "3              0                        0           0                    0   \n",
       "4              0                        0           0                    0   \n",
       "\n",
       "  tax_liens  \n",
       "0         0  \n",
       "1         0  \n",
       "2         0  \n",
       "3         0  \n",
       "4         0  \n",
       "\n",
       "[5 rows x 57 columns]"
      ]
     },
     "execution_count": 292,
     "metadata": {},
     "output_type": "execute_result"
    }
   ],
   "source": [
    "#np Vectorized Function to Filter Null Columns from the Loan Dataframe\n",
    "Func_filterNullCol = np.vectorize(lambda x: True if dictColumn2NullPercent.get(x) < 100 else False)\n",
    "Func_filterNullCol(np.array(loan_df.columns))\n",
    "#Drop All the Null COlumns\n",
    "loan_df = loan_df.loc[:,Func_filterNullCol(np.array(loan_df.columns))]\n",
    "loan_df.head()"
   ]
  },
  {
   "cell_type": "markdown",
   "metadata": {},
   "source": [
    "### Step: 5 ==> Drop Columns with Single Unique Value as per Metadata Analysis"
   ]
  },
  {
   "cell_type": "code",
   "execution_count": 293,
   "metadata": {},
   "outputs": [],
   "source": [
    "unncessaryColumns = ['desc', 'title', 'initial_list_status', 'policy_code', 'application_type',\n",
    "                     'acc_now_delinq', 'delinq_amnt', 'pymnt_plan', 'url', 'emp_title']\n",
    "loan_df.drop(columns=unncessaryColumns, inplace=True)"
   ]
  },
  {
   "cell_type": "markdown",
   "metadata": {},
   "source": [
    "# 2. Normalizing All the Columns with Standard Format for Analysis"
   ]
  },
  {
   "cell_type": "markdown",
   "metadata": {},
   "source": [
    "## 2.1 ``Common Functions``"
   ]
  },
  {
   "cell_type": "code",
   "execution_count": 294,
   "metadata": {},
   "outputs": [],
   "source": [
    "#All input dates are in MON-YY Format e.g: DEC-11\n",
    "def changeDate2SequenceOfInt(inputDate):\n",
    "    if(pd.isnull(inputDate)):\n",
    "        return 0\n",
    "    else:\n",
    "        dt = datetime.datetime.strptime(inputDate,\"%b-%y\")\n",
    "        return int(str(dt.year) + str(dt.strftime('%m')))"
   ]
  },
  {
   "cell_type": "code",
   "execution_count": 295,
   "metadata": {},
   "outputs": [],
   "source": [
    "def createDict(columnName):\n",
    "    unique_columnValues = loan_df.loc[:,columnName].unique()\n",
    "    unique_Count = len(unique_columnValues)\n",
    "    columnName_col2Val = dict(zip(unique_columnValues,np.arange(unique_Count)))\n",
    "    columnName_val2Col = dict(zip(np.arange(unique_Count), unique_columnValues))\n",
    "    return columnName_col2Val, columnName_val2Col"
   ]
  },
  {
   "cell_type": "code",
   "execution_count": 296,
   "metadata": {},
   "outputs": [],
   "source": [
    "def checkNullPerForColumns(columnName):\n",
    "    print (round(100*(loan_df.loc[:,columnName].isnull().sum()/len(loan_df.loc[:,columnName].index)), 2))"
   ]
  },
  {
   "cell_type": "markdown",
   "metadata": {},
   "source": [
    "## 2.2 ``Applying Functions and Lambda to Nornmalize Columns``"
   ]
  },
  {
   "cell_type": "markdown",
   "metadata": {},
   "source": [
    "### ```==> loan_amnt, funded_amnt, funded_amnt_inv, term ```"
   ]
  },
  {
   "cell_type": "code",
   "execution_count": 297,
   "metadata": {},
   "outputs": [],
   "source": [
    "loan_df['loan_amnt'] = loan_df['loan_amnt'].apply(pd.to_numeric)\n",
    "loan_df['funded_amnt'] = loan_df['funded_amnt'].apply(pd.to_numeric)\n",
    "loan_df['funded_amnt_inv'] = loan_df['funded_amnt_inv'].apply(pd.to_numeric)\n",
    "loan_df['term'] = (loan_df['term'].apply(lambda x: x.split(\"months\")[0])).apply(pd.to_numeric)"
   ]
  },
  {
   "cell_type": "markdown",
   "metadata": {},
   "source": [
    "### ```==> int_rate ```"
   ]
  },
  {
   "cell_type": "code",
   "execution_count": 298,
   "metadata": {},
   "outputs": [],
   "source": [
    "loan_df['int_rate'] = round(loan_df['int_rate'].apply(lambda x: (str(x).split(\"%\")[0])).apply(pd.to_numeric),0)"
   ]
  },
  {
   "cell_type": "markdown",
   "metadata": {},
   "source": [
    "### ```==> installment ```"
   ]
  },
  {
   "cell_type": "code",
   "execution_count": 299,
   "metadata": {},
   "outputs": [],
   "source": [
    "loan_df['installment'] = round(loan_df['installment'].apply(pd.to_numeric),0)"
   ]
  },
  {
   "cell_type": "markdown",
   "metadata": {},
   "source": [
    "### ```==> emp_length ```"
   ]
  },
  {
   "cell_type": "code",
   "execution_count": 300,
   "metadata": {},
   "outputs": [],
   "source": [
    "#Remove > and < Symbol and < 1 Value set to 0\n",
    "loan_df['emp_length'] = loan_df['emp_length'].apply(lambda x: str(x).split(\"year\")[0].\\\n",
    "                                                    strip().split(\"+\")[0]).apply(lambda x: 0 if str(x).find(\"<\") >=0 else x)"
   ]
  },
  {
   "cell_type": "markdown",
   "metadata": {},
   "source": [
    "### ```==> home_ownership ```"
   ]
  },
  {
   "cell_type": "code",
   "execution_count": 301,
   "metadata": {},
   "outputs": [],
   "source": [
    "# Only 3 Records in NONE Category with Full Paid, Hence same record is discarded\n",
    "loan_df = loan_df[loan_df['home_ownership']  != 'NONE']"
   ]
  },
  {
   "cell_type": "code",
   "execution_count": 302,
   "metadata": {},
   "outputs": [],
   "source": [
    "home_ownership_col2Val, home_ownership_val2Col = createDict(\"home_ownership\")\n",
    "loan_df['home_ownership'] = loan_df['home_ownership'].apply(lambda x: home_ownership_col2Val.get(x))"
   ]
  },
  {
   "cell_type": "markdown",
   "metadata": {},
   "source": [
    "### ```==> verification_status ```"
   ]
  },
  {
   "cell_type": "code",
   "execution_count": 303,
   "metadata": {},
   "outputs": [],
   "source": [
    "verification_status_col2Val, verification_status_val2Col = createDict(\"verification_status\")\n",
    "loan_df['verification_status'] = loan_df['verification_status'].apply(lambda x: verification_status_col2Val.get(x))"
   ]
  },
  {
   "cell_type": "markdown",
   "metadata": {},
   "source": [
    "### ```==> issue_d, earliest_cr_line ```"
   ]
  },
  {
   "cell_type": "code",
   "execution_count": 304,
   "metadata": {},
   "outputs": [],
   "source": [
    "loan_df['issue_d'] = loan_df['issue_d'].apply(changeDate2SequenceOfInt)\n",
    "loan_df['earliest_cr_line'] = loan_df['earliest_cr_line'].apply(changeDate2SequenceOfInt)"
   ]
  },
  {
   "cell_type": "markdown",
   "metadata": {},
   "source": [
    "### ```==> loan_status ```"
   ]
  },
  {
   "cell_type": "code",
   "execution_count": 305,
   "metadata": {},
   "outputs": [],
   "source": [
    "loan_status_col2Val, loan_status_val2Col = createDict(\"loan_status\")\n",
    "loan_df['loan_status'] = loan_df['loan_status'].apply(lambda x: loan_status_col2Val.get(x))"
   ]
  },
  {
   "cell_type": "markdown",
   "metadata": {},
   "source": [
    "### ```==> purpose ```"
   ]
  },
  {
   "cell_type": "code",
   "execution_count": 306,
   "metadata": {},
   "outputs": [],
   "source": [
    "purpose_col2Val, purpose_val2Col = createDict(\"purpose\")\n",
    "loan_df['purpose'] = loan_df['purpose'].apply(lambda x: purpose_col2Val.get(x))"
   ]
  },
  {
   "cell_type": "markdown",
   "metadata": {},
   "source": [
    "### ```==> zip_code ```"
   ]
  },
  {
   "cell_type": "code",
   "execution_count": 307,
   "metadata": {},
   "outputs": [],
   "source": [
    "loan_df['zip_code'] = loan_df['zip_code'].apply(lambda x: str(x)[0:3])"
   ]
  },
  {
   "cell_type": "markdown",
   "metadata": {},
   "source": [
    "### ```==> Set Numeric to All Money Related Columns```"
   ]
  },
  {
   "cell_type": "code",
   "execution_count": 308,
   "metadata": {},
   "outputs": [],
   "source": [
    "columnList = ['delinq_2yrs', 'inq_last_6mths', 'open_acc',  'pub_rec', 'revol_bal', \\\n",
    "              'total_acc','out_prncp', 'out_prncp_inv','total_pymnt','total_pymnt_inv',\\\n",
    "              'total_rec_prncp','total_rec_int','total_rec_late_fee','recoveries',\\\n",
    "              'collection_recovery_fee','last_pymnt_amnt']\n",
    "loan_df[columnList] = loan_df[columnList].apply(pd.to_numeric)"
   ]
  },
  {
   "cell_type": "markdown",
   "metadata": {},
   "source": [
    "### ```==> revol_util ```    ```***``` NAN Value Normalization Need to Check"
   ]
  },
  {
   "cell_type": "code",
   "execution_count": 309,
   "metadata": {},
   "outputs": [],
   "source": [
    "#Setting the default value 100%, Need to check futher \n",
    "loan_df.loc[(pd.isna(loan_df['revol_util'])), 'revol_util'] = 100.0\n",
    "loan_df['revol_util'] = round(loan_df['revol_util'].apply(lambda x: (str(x).split(\"%\")[0])).apply(pd.to_numeric),0)"
   ]
  },
  {
   "cell_type": "markdown",
   "metadata": {},
   "source": [
    "### ```==> next_pymnt_d, last_pymnt_d, last_credit_pull_d ```"
   ]
  },
  {
   "cell_type": "code",
   "execution_count": 310,
   "metadata": {},
   "outputs": [],
   "source": [
    "loan_df['next_pymnt_d'] = loan_df['next_pymnt_d'].apply(changeDate2SequenceOfInt)\n",
    "loan_df['last_pymnt_d'] = loan_df['last_pymnt_d'].apply(changeDate2SequenceOfInt)\n",
    "loan_df['last_credit_pull_d'] = loan_df['last_credit_pull_d'].apply(changeDate2SequenceOfInt)"
   ]
  },
  {
   "cell_type": "markdown",
   "metadata": {},
   "source": [
    "### ```==> collections_12_mths_ex_med ```"
   ]
  },
  {
   "cell_type": "code",
   "execution_count": 311,
   "metadata": {},
   "outputs": [],
   "source": [
    "collections_12_mths_ex_med_col2Val, collections_12_mths_ex_med_val2Col = createDict(\"collections_12_mths_ex_med\")\n",
    "loan_df['collections_12_mths_ex_med'] = loan_df['collections_12_mths_ex_med'].apply(lambda x: collections_12_mths_ex_med_col2Val.get(x))"
   ]
  },
  {
   "cell_type": "markdown",
   "metadata": {},
   "source": [
    "### ```==> chargeoff_within_12_mths ```            *** Need to Check for NAN Value Update***````"
   ]
  },
  {
   "cell_type": "code",
   "execution_count": 312,
   "metadata": {},
   "outputs": [],
   "source": [
    "loan_df.loc[(pd.isna(loan_df['chargeoff_within_12_mths'])),'chargeoff_within_12_mths'] = -1"
   ]
  },
  {
   "cell_type": "markdown",
   "metadata": {},
   "source": [
    "### ```==> pub_rec_bankruptcies ```"
   ]
  },
  {
   "cell_type": "code",
   "execution_count": 313,
   "metadata": {},
   "outputs": [],
   "source": [
    "loan_df.loc[(pd.isna(loan_df['pub_rec_bankruptcies'])),'pub_rec_bankruptcies'] = 0"
   ]
  },
  {
   "cell_type": "code",
   "execution_count": null,
   "metadata": {},
   "outputs": [],
   "source": []
  }
 ],
 "metadata": {
  "kernelspec": {
   "display_name": "Python 3",
   "language": "python",
   "name": "python3"
  },
  "language_info": {
   "codemirror_mode": {
    "name": "ipython",
    "version": 3
   },
   "file_extension": ".py",
   "mimetype": "text/x-python",
   "name": "python",
   "nbconvert_exporter": "python",
   "pygments_lexer": "ipython3",
   "version": "3.6.4"
  }
 },
 "nbformat": 4,
 "nbformat_minor": 2
}
